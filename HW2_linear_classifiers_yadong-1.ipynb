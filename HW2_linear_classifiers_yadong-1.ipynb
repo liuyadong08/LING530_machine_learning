{
 "cells": [
  {
   "cell_type": "markdown",
   "id": "3822523a",
   "metadata": {},
   "source": [
    "# HW1: Linear classifiers\n",
    "    \n",
    "In this homework assignment, we'll compare two linear classifiers: logistic regression and perceptron on the task of language identification. \n",
    "\n",
    "Before you start, rename the notebook to HW2_linear_classifiers_firstname.ipynb. E.g. HW2_linear_classifiers_miikka.ipynb.\n",
    "\n",
    "Our tasks include:\n",
    "\n",
    "1. Reading training, development and test data\n",
    "1. Implementing a feature extraction function for language identification\n",
    "1. Implementing a baseline majority classifier\n",
    "1. Training and fine-tuning logistic regression and perceptron classifiers using Sklearn.\n",
    "1. Evaluation of classification performance including a significance test.\n",
    "1. Figuring out top features for both classifiers. \n",
    "1. Writing short report on your findings.\n",
    "\n",
    "Grading criteria for code:\n",
    "\n",
    "* Readability of code\n",
    "* Correctness of code and solution\n",
    "* Appropriate code commenting\n",
    "* Your code should be reasonably efficient. No need to optimize too much but (apart from fine-tuning code) it should be possible to run the entire notebook in 30 minutes.\n",
    "\n",
    "Grading criteria for the half-page report (in assignment 7. Evaluation):\n",
    "\n",
    "* Clear explanation of what you did\n",
    "* Clear explanation of your observations concerning the output of the classifier.\n",
    "* You need to include answers to the questions posed in assignment 1-6.\n",
    "\n",
    "The deadline for this assignment is Sunday November 5 at 23:59 PT. Please upload your notebook to Canvas or email it to Miikka (msilfver@mail.ubc.ca). No need to include the datasets.\n",
    "\n",
    "## 1. Reading training, development and test data (5 points)\n",
    "\n",
    "You task is to distinguish between short sentence fragments in English, French, German and Swedish. You will get three data files for this assignment:\n",
    "\n",
    "* `lang.train.tsv` for training your model\n",
    "* `lang.dev.tsv` for fine-tuning model parameters\n",
    "* `lang.test.tsv` for final testing of your models including significance tests\n",
    "\n",
    "The data in all files has the same format. Two tab-separated columns: (1) the sentence fragment, (2) the language tag (de for German, en for English, fr for French, sv for Swedish):\n",
    "\n",
    "```\n",
    "text                    language\n",
    "même prix je me         fr\n",
    "je préfère ignorer son  fr\n",
    "die mediation           de\n",
    "two                     en\n",
    "to end                  en\n",
    "```\n",
    "\n",
    "You should read these files into three Pandas data frames."
   ]
  },
  {
   "cell_type": "code",
   "execution_count": 9,
   "id": "272bed0e-c029-4ce1-94c7-4eaf8eb85034",
   "metadata": {},
   "outputs": [],
   "source": [
    "import pandas as pd\n",
    "from collections import defaultdict, Counter\n",
    "import sklearn\n",
    "from sklearn.preprocessing import LabelEncoder\n",
    "from sklearn.feature_extraction import DictVectorizer\n",
    "from sklearn.dummy import DummyClassifier\n",
    "from sklearn.metrics import classification_report, f1_score, roc_curve, RocCurveDisplay\n",
    "from sklearn.linear_model import LogisticRegression, Perceptron\n",
    "import numpy as np\n",
    "from scipy.stats import wilcoxon, ttest_rel\n",
    "import matplotlib.pyplot as plt\n",
    "from sklearn import metrics"
   ]
  },
  {
   "cell_type": "code",
   "execution_count": 2,
   "id": "268a4c9f",
   "metadata": {},
   "outputs": [
    {
     "name": "stdout",
     "output_type": "stream",
     "text": [
      "                            text language\n",
      "0                même prix je me       fr\n",
      "1         je préfère ignorer son       fr\n",
      "2                  die mediation       de\n",
      "3                            two       en\n",
      "4                         to end       en\n",
      "...                          ...      ...\n",
      "4813               et morte le 2       fr\n",
      "4814   il comptait 249 habitants       fr\n",
      "4815          links zu von sears       de\n",
      "4816  clemens gerth zirka kunden       de\n",
      "4817         die abschaffung der       de\n",
      "\n",
      "[4818 rows x 2 columns]\n"
     ]
    }
   ],
   "source": [
    "# loading datasets\n",
    "train = pd.read_csv(\"lang.train.tsv\",  sep = \"\\t\")\n",
    "dev = pd.read_csv(\"lang.dev.tsv\", sep = \"\\t\")\n",
    "test = pd.read_csv(\"lang.test.tsv\", sep = \"\\t\")\n",
    "\n",
    "print(train)"
   ]
  },
  {
   "cell_type": "markdown",
   "id": "9618153e",
   "metadata": {},
   "source": [
    "## 2. Feature extraction (20 points)\n",
    "\n",
    "You are allowed to use any approach you like for feature extraction. One idea is to use [CountVectorizer](https://scikit-learn.org/stable/modules/generated/sklearn.feature_extraction.text.CountVectorizer.html) but you can also extract your features manually and apply [DictVectorizer](https://scikit-learn.org/stable/modules/generated/sklearn.feature_extraction.DictVectorizer.html#sklearn.feature_extraction.DictVectorizer.get_feature_names_out) (note, that the class names are links to the sklearn documentation)\n",
    "\n",
    "If you end up using CountVectorizer, note that it by default only extracts **word** n-grams. While this can give you reasonable performance, it probably isn't the best approach because words like \"abschaffung\" are rare and word-based features are unlikely to generalize well to test data. Instead, it might be a better idea to extract **substrings** of the sentence fragment like \"absch\" which can generalize far better. To this end, you might want to take a look at the parameter `analyzer` in the CountVectorizer class.\n",
    "\n",
    "Even though most words are rare, there are words like \"a\", \"the\", \"is\" in English and \"le\", \"la\" and \"est\" in French which can be good and frequent features. You might want to include some of these even though they might, at least partly, be covered by your character n-grams.\n",
    "\n",
    "You have great freedom to extract features any way you like. You don't need to limit yourself to the predefined sklearn features. You can even use external resources like dictionaries for this task if you want. For example, the [Unimorph](https://unimorph.github.io/) project provides huge lists of inflected word forms for all of our target languages. Checking how many of the words in the sentence fragment are present in the English, French, German or Swedish word list could be a nice feature.\n",
    "\n",
    "Note, that you will fine-tune your feature set in assignment 4. For example, you might adjust the size of the character n-grams which are included as features. For now, use reasonable guesses and revisit the question when you get to assignment 4.  \n",
    "\n",
    "Store your features in the arrays `train_X`, `dev_X` and `test_X`.\n",
    "\n",
    "In your report (question 7), you should describe your feature set."
   ]
  },
  {
   "cell_type": "code",
   "execution_count": 3,
   "id": "9184b154-218b-40f8-ac43-7a2cc1cc9403",
   "metadata": {},
   "outputs": [
    {
     "name": "stdout",
     "output_type": "stream",
     "text": [
      "             stem       inflected           form\n",
      "0      Washington      Washington  N;NOM;NEUT;SG\n",
      "1      Washington     Washingtons  N;GEN;NEUT;SG\n",
      "2      Washington      Washington  N;DAT;NEUT;SG\n",
      "3      Washington      Washington  N;ACC;NEUT;SG\n",
      "4  Hirschhornsalz  Hirschhornsalz  N;NOM;NEUT;SG\n"
     ]
    }
   ],
   "source": [
    "# get inflected word forms for each language\n",
    "en_url = 'https://raw.githubusercontent.com/unimorph/eng/master/eng'\n",
    "en_df = pd.read_csv(en_url,header = None, names = [\"stem\", \"inflected\", \"form\"], sep = \"\\t\")\n",
    "fr_url = 'https://raw.githubusercontent.com/unimorph/fra/master/fra'\n",
    "fr_df = pd.read_csv(fr_url,header = None, names = [\"stem\", \"inflected\", \"form\"], sep = \"\\t\")\n",
    "de_url = 'https://raw.githubusercontent.com/unimorph/deu/master/deu'\n",
    "de_df = pd.read_csv(de_url,header = None, names = [\"stem\", \"inflected\", \"form\"], sep = \"\\t\")\n",
    "sv_url = 'https://raw.githubusercontent.com/unimorph/swe/master/swe'\n",
    "sv_df = pd.read_csv(sv_url,header = None, names = [\"stem\", \"inflected\", \"form\"], sep = \"\\t\")\n",
    "\n",
    "print(de_df.head(5))"
   ]
  },
  {
   "cell_type": "code",
   "execution_count": 4,
   "id": "dcd133bd",
   "metadata": {},
   "outputs": [],
   "source": [
    "def char_ngram(text, maxn, maxlen):\n",
    "    \"\"\"get n-grams out of a sentence fragment\"\"\"\n",
    "    ngram = []\n",
    "    for i in range(0, len(text) + 1 - maxn):\n",
    "        for j in range(i + maxn, min(i + maxn + 1, len(text) + 1)):\n",
    "            ngram.append(text[i:j])\n",
    "    return ngram\n",
    "def feature_extraction(data):\n",
    "    \"\"\"extract features from text and gather langauge tags\"\"\"\n",
    "    data_features = []\n",
    "    for text in data.text:\n",
    "        features = {\n",
    "            \"char_bigram\" : char_ngram(text, 2, 50), # character bigram\n",
    "            \"char_trigram\" : char_ngram(text, 3, 50), # character trigram\n",
    "            \"en_word_no\": len([word for word in text.split(\" \") if word in en_df.inflected.iloc[1]]), # number of English inflected word\n",
    "            \"fr_word_no\": len([word for word in text.split(\" \") if word in fr_df.inflected.iloc[1]]), # number of French inflected word\n",
    "            \"de_word_no\": len([word for word in text.split(\" \") if word in de_df.inflected.iloc[1]]), # number of German inflected word\n",
    "            \"sv_word_no\": len([word for word in text.split(\" \") if word in sv_df.inflected.iloc[1]]), # number of Swedish inflected word\n",
    "        }\n",
    "        if len(list(set(text.split(\" \")) & set([\"a\", \"the\", \"is\", \"are\", \"was\", \"were\"])))>0: # existance of English common word\n",
    "            features[\"EN_common_word\"] = \"YES\"\n",
    "        if len(list(set(text.split(\" \")) & set([\"un\", \"une\", \"le\", \"la\", \"est\"])))>0: # existance of French common word\n",
    "            features[\"FR_common_word\"] = \"YES\"\n",
    "        if len(list(set(text.split(\" \")) & set([\"ein\", \"eine\", \"die\", \"der\", \"ist\"])))>0: # existance of French common word\n",
    "            features[\"DE_common_word\"] = \"YES\" \n",
    "        if len(list(set(text.split(\" \")) & set([\"en\", \"ett\", \"är\", \"var\", \"det\"])))>0: # existance of Swedish common word\n",
    "            features[\"SV_common_word\"] = \"YES\"\n",
    "            \n",
    "        data_features.append(features)\n",
    "    return data_features"
   ]
  },
  {
   "cell_type": "code",
   "execution_count": 5,
   "id": "ac2b8605-4703-4be7-b649-097a5a2bd669",
   "metadata": {},
   "outputs": [],
   "source": [
    "# extract features from train, dev, and test dataset.\n",
    "train_features = feature_extraction(train)\n",
    "dev_features= feature_extraction(dev)\n",
    "test_features = feature_extraction(test)"
   ]
  },
  {
   "cell_type": "code",
   "execution_count": 6,
   "id": "7d9c5331-bb57-450b-a01c-570ccd2dfb10",
   "metadata": {},
   "outputs": [],
   "source": [
    "# initialize a DictVectorizer and vectorize features in train, dev, and test.\n",
    "feature_encoder = DictVectorizer()\n",
    "\n",
    "train_X = feature_encoder.fit_transform(train_features)\n",
    "dev_X = feature_encoder.transform(dev_features)\n",
    "test_X = feature_encoder.transform(test_features)"
   ]
  },
  {
   "cell_type": "markdown",
   "id": "03d8d88d",
   "metadata": {},
   "source": [
    "## 3. Baseline (5 points)\n",
    "\n",
    "You should then encode your labels into index numbers using [sklearn.preprocessing.LabelEncoder](https://scikit-learn.org/stable/modules/generated/sklearn.preprocessing.LabelEncoder.html). Store your labels in `train_y`, `dev_y` and `test_y`.\n",
    "\n",
    "Then train a baseline majority classifier using [DummyClassifier](https://scikit-learn.org/stable/modules/generated/sklearn.dummy.DummyClassifier.html). Check the macro averaged f-score on the development set. It should be pretty low (around 10%). \n",
    "\n",
    "In your report (question 7), you should answer the following questions:\n",
    "* Why do you think the baseline performance is low?  "
   ]
  },
  {
   "cell_type": "code",
   "execution_count": 7,
   "id": "6907107c-bf34-4b66-b818-10fc83f7ab8a",
   "metadata": {},
   "outputs": [
    {
     "name": "stdout",
     "output_type": "stream",
     "text": [
      "['de' 'en' 'fr' 'sv']\n"
     ]
    }
   ],
   "source": [
    "# encode labels in train, dev, and test into index numbers\n",
    "label_encoder = LabelEncoder()\n",
    "label_encoder.fit(train.language)\n",
    "\n",
    "train_y = label_encoder.transform(train.language)\n",
    "dev_y = label_encoder.transform(dev.language)\n",
    "test_y = label_encoder.transform(test.language)\n",
    "\n",
    "\n",
    "print(label_encoder.classes_)"
   ]
  },
  {
   "cell_type": "code",
   "execution_count": 8,
   "id": "8ccb9bf2",
   "metadata": {},
   "outputs": [
    {
     "name": "stdout",
     "output_type": "stream",
     "text": [
      "baseline F score: 0.09863307424283034\n"
     ]
    }
   ],
   "source": [
    "# Train a Dummyclassifier and check its performance.\n",
    "baseline = DummyClassifier(strategy=\"most_frequent\")\n",
    "baseline.fit(train_X, train_y)\n",
    "\n",
    "sys_dev_y = baseline.predict(dev_X)\n",
    "print(f\"baseline F score: {f1_score(dev_y, sys_dev_y, average='macro')}\")"
   ]
  },
  {
   "cell_type": "code",
   "execution_count": 14,
   "id": "10180465-fda6-4ee8-bf82-595669490ca4",
   "metadata": {},
   "outputs": [
    {
     "name": "stdout",
     "output_type": "stream",
     "text": [
      "training dataset label count: Counter({2: 1241, 0: 1232, 1: 1228, 3: 1117})\n",
      "development dataset label count: Counter({0: 783, 1: 740, 3: 736, 2: 736})\n"
     ]
    }
   ],
   "source": [
    "print(f\"training dataset label count: {Counter(train_y)}\")\n",
    "print(f\"development dataset label count: {Counter(dev_y)}\")"
   ]
  },
  {
   "cell_type": "markdown",
   "id": "636b81d9",
   "metadata": {},
   "source": [
    "## 4. Training and fine-tuning classifiers (20 points)\n",
    "\n",
    "Next, you should train two models using sklearn: \n",
    "\n",
    "1. A [perceptron](https://scikit-learn.org/stable/modules/generated/sklearn.linear_model.Perceptron.html) classifier \n",
    "2. A [logistic regression](https://scikit-learn.org/stable/modules/generated/sklearn.linear_model.Perceptron.html) model. \n",
    "\n",
    "Start by training these with default parameters and check the performance (macro averaged f-score). You should be able to get **far** better performance than the baseline. Perhaps even close to or above 90% but this depends on your feature extraction. "
   ]
  },
  {
   "cell_type": "code",
   "execution_count": 9,
   "id": "d872c41a",
   "metadata": {},
   "outputs": [
    {
     "name": "stdout",
     "output_type": "stream",
     "text": [
      "Perceptron F score: 0.9073867420011236\n"
     ]
    }
   ],
   "source": [
    "# train a perceptron classifier and check its performance\n",
    "perceptron = Perceptron()\n",
    "perceptron.fit(train_X, train_y)\n",
    "pcpt_sys_dev_y = perceptron.predict(dev_X)\n",
    "print(f\"Perceptron F score: {f1_score(dev_y, pcpt_sys_dev_y, average='macro')}\")"
   ]
  },
  {
   "cell_type": "code",
   "execution_count": 10,
   "id": "97921839-67c8-4fc9-8477-09a67f3140d9",
   "metadata": {},
   "outputs": [
    {
     "name": "stdout",
     "output_type": "stream",
     "text": [
      "Logistic regression F score: 0.9112870076652817\n"
     ]
    }
   ],
   "source": [
    "# train a logistic regression classifier and check its performance\n",
    "lr = LogisticRegression()\n",
    "lr.fit(train_X, train_y)\n",
    "lr_sys_dev_y = lr.predict(dev_X)\n",
    "print(f\"Logistic regression F score: {f1_score(dev_y, lr_sys_dev_y, average='macro')}\")"
   ]
  },
  {
   "cell_type": "markdown",
   "id": "f1aa383c",
   "metadata": {},
   "source": [
    "To help you tune the feature extraction process, you should print a list of the development examples which are incorrectly classified by your current models. Also print the gold standard and predicted language. By examining this list, you might be able to identify additional helpful features, or at least understand why your classifier is confused. \n",
    "\n",
    "**HINT:** the `predict()` function will give you an index number instead of an actual language tag like \"en\". Use the `classes_` member of your label encoder to transform the index number into a language tag. "
   ]
  },
  {
   "cell_type": "code",
   "execution_count": 11,
   "id": "5771f4e6",
   "metadata": {},
   "outputs": [
    {
     "data": {
      "text/html": [
       "<div>\n",
       "<style scoped>\n",
       "    .dataframe tbody tr th:only-of-type {\n",
       "        vertical-align: middle;\n",
       "    }\n",
       "\n",
       "    .dataframe tbody tr th {\n",
       "        vertical-align: top;\n",
       "    }\n",
       "\n",
       "    .dataframe thead th {\n",
       "        text-align: right;\n",
       "    }\n",
       "</style>\n",
       "<table border=\"1\" class=\"dataframe\">\n",
       "  <thead>\n",
       "    <tr style=\"text-align: right;\">\n",
       "      <th></th>\n",
       "      <th>sv</th>\n",
       "      <th>en</th>\n",
       "      <th>fr</th>\n",
       "      <th>de</th>\n",
       "    </tr>\n",
       "  </thead>\n",
       "  <tbody>\n",
       "    <tr>\n",
       "      <th>0</th>\n",
       "      <td>(jenna marbles, en)</td>\n",
       "      <td>(hofheim, fr)</td>\n",
       "      <td>(semaine de, en)</td>\n",
       "      <td>(gendarmerie vont, fr)</td>\n",
       "    </tr>\n",
       "    <tr>\n",
       "      <th>1</th>\n",
       "      <td>(results, en)</td>\n",
       "      <td>(actives, fr)</td>\n",
       "      <td>(madame tussauds, en)</td>\n",
       "      <td>(sovereign people, en)</td>\n",
       "    </tr>\n",
       "    <tr>\n",
       "      <th>2</th>\n",
       "      <td>(cukor et, fr)</td>\n",
       "      <td>(wissen was, de)</td>\n",
       "      <td>(more details, en)</td>\n",
       "      <td>(comprimer, fr)</td>\n",
       "    </tr>\n",
       "    <tr>\n",
       "      <th>3</th>\n",
       "      <td>(hören war doch, de)</td>\n",
       "      <td>(1985, sv)</td>\n",
       "      <td>(divx, de)</td>\n",
       "      <td>(die sooner when, en)</td>\n",
       "    </tr>\n",
       "    <tr>\n",
       "      <th>4</th>\n",
       "      <td>(nom de villebetmer et, fr)</td>\n",
       "      <td>(1905, sv)</td>\n",
       "      <td>(chet clem, en)</td>\n",
       "      <td>(del 2 59, sv)</td>\n",
       "    </tr>\n",
       "    <tr>\n",
       "      <th>5</th>\n",
       "      <td>(sochi russia, en)</td>\n",
       "      <td>(lassen, de)</td>\n",
       "      <td>(zirka 20 euro, de)</td>\n",
       "      <td>(90 minutes, fr)</td>\n",
       "    </tr>\n",
       "    <tr>\n",
       "      <th>6</th>\n",
       "      <td>(as president, en)</td>\n",
       "      <td>(sa population, fr)</td>\n",
       "      <td>(irrelevant, en)</td>\n",
       "      <td>(dem, sv)</td>\n",
       "    </tr>\n",
       "    <tr>\n",
       "      <th>7</th>\n",
       "      <td>(hinter axero, de)</td>\n",
       "      <td>(expeditioner valbyråer, sv)</td>\n",
       "      <td>(liquid, en)</td>\n",
       "      <td>(att ge de, sv)</td>\n",
       "    </tr>\n",
       "    <tr>\n",
       "      <th>8</th>\n",
       "      <td>(lv stuff, en)</td>\n",
       "      <td>(weg ins in, de)</td>\n",
       "      <td>(480 pixeln, de)</td>\n",
       "      <td>(church, en)</td>\n",
       "    </tr>\n",
       "    <tr>\n",
       "      <th>9</th>\n",
       "      <td>(300 32, de)</td>\n",
       "      <td>(576, fr)</td>\n",
       "      <td>(balans, sv)</td>\n",
       "      <td>(comme nan goldin printemps, fr)</td>\n",
       "    </tr>\n",
       "    <tr>\n",
       "      <th>10</th>\n",
       "      <td>(giovanni bellini 1505, en)</td>\n",
       "      <td>(ingås, sv)</td>\n",
       "      <td>(voice stammt den, de)</td>\n",
       "      <td>(neutraliteten, sv)</td>\n",
       "    </tr>\n",
       "    <tr>\n",
       "      <th>11</th>\n",
       "      <td>(statt dessen, de)</td>\n",
       "      <td>(ha, sv)</td>\n",
       "      <td>(intressant, sv)</td>\n",
       "      <td>(15 november, sv)</td>\n",
       "    </tr>\n",
       "    <tr>\n",
       "      <th>12</th>\n",
       "      <td>(postbank easytrade per internet, de)</td>\n",
       "      <td>(bromsar, sv)</td>\n",
       "      <td>(video miharris, en)</td>\n",
       "      <td>(volunteers and soldiers of, en)</td>\n",
       "    </tr>\n",
       "    <tr>\n",
       "      <th>13</th>\n",
       "      <td>(1971, fr)</td>\n",
       "      <td>(marcus andronicus annonce, fr)</td>\n",
       "      <td>(camp councillor, en)</td>\n",
       "      <td>(states until, en)</td>\n",
       "    </tr>\n",
       "    <tr>\n",
       "      <th>14</th>\n",
       "      <td>(varvara yakovleva à titre, fr)</td>\n",
       "      <td>(tid, sv)</td>\n",
       "      <td>(quite a problem, en)</td>\n",
       "      <td>(ges inte, sv)</td>\n",
       "    </tr>\n",
       "    <tr>\n",
       "      <th>15</th>\n",
       "      <td>(poet, en)</td>\n",
       "      <td>(diskussion hat, de)</td>\n",
       "      <td>(priser, sv)</td>\n",
       "      <td>(en 2005, fr)</td>\n",
       "    </tr>\n",
       "    <tr>\n",
       "      <th>16</th>\n",
       "      <td>(rock reggae pop, fr)</td>\n",
       "      <td>(aigu clair, fr)</td>\n",
       "      <td>(prozess durch alle, de)</td>\n",
       "      <td>(mittlinje kan, sv)</td>\n",
       "    </tr>\n",
       "    <tr>\n",
       "      <th>17</th>\n",
       "      <td>(it jenna mcmasters, en)</td>\n",
       "      <td>(fusion mit time, de)</td>\n",
       "      <td>(purposes, en)</td>\n",
       "      <td>(zuckerberg, en)</td>\n",
       "    </tr>\n",
       "    <tr>\n",
       "      <th>18</th>\n",
       "      <td>(drupa, de)</td>\n",
       "      <td>(kungsholmens byalag, sv)</td>\n",
       "      <td>(term plans, en)</td>\n",
       "      <td>(statens naturvårdsverk, sv)</td>\n",
       "    </tr>\n",
       "    <tr>\n",
       "      <th>19</th>\n",
       "      <td>(davantage, fr)</td>\n",
       "      <td>(vuxit fram, sv)</td>\n",
       "      <td>(höchst dubios sagte, de)</td>\n",
       "      <td>(jag inte, sv)</td>\n",
       "    </tr>\n",
       "    <tr>\n",
       "      <th>20</th>\n",
       "      <td>(i at, en)</td>\n",
       "      <td>(syn, sv)</td>\n",
       "      <td>(patrick gordon, en)</td>\n",
       "      <td>(gymnasiestudier, sv)</td>\n",
       "    </tr>\n",
       "    <tr>\n",
       "      <th>21</th>\n",
       "      <td>(fertile, fr)</td>\n",
       "      <td>(system av, sv)</td>\n",
       "      <td>(1994 6, en)</td>\n",
       "      <td>(adverb auxiliary verb main, en)</td>\n",
       "    </tr>\n",
       "    <tr>\n",
       "      <th>22</th>\n",
       "      <td>(telekom kappt, de)</td>\n",
       "      <td>(4 aggregat, sv)</td>\n",
       "      <td>(portale, de)</td>\n",
       "      <td>(limb geometry, en)</td>\n",
       "    </tr>\n",
       "    <tr>\n",
       "      <th>23</th>\n",
       "      <td>(anderson, en)</td>\n",
       "      <td>(erst in, de)</td>\n",
       "      <td>(anime fantasy and, en)</td>\n",
       "      <td>(1856 macnab fut, fr)</td>\n",
       "    </tr>\n",
       "    <tr>\n",
       "      <th>24</th>\n",
       "      <td>(und edgar bronfman, de)</td>\n",
       "      <td>(kritik an, de)</td>\n",
       "      <td>(its pressure, en)</td>\n",
       "      <td>(kuvert, sv)</td>\n",
       "    </tr>\n",
       "    <tr>\n",
       "      <th>25</th>\n",
       "      <td>(bild, de)</td>\n",
       "      <td>(dem meldet the, de)</td>\n",
       "      <td>(potential employers, en)</td>\n",
       "      <td>(kommissionen, sv)</td>\n",
       "    </tr>\n",
       "    <tr>\n",
       "      <th>26</th>\n",
       "      <td>(de hattushili i, fr)</td>\n",
       "      <td>(ljus, sv)</td>\n",
       "      <td>(silicon valley, de)</td>\n",
       "      <td>(state commitment, en)</td>\n",
       "    </tr>\n",
       "    <tr>\n",
       "      <th>27</th>\n",
       "      <td>(toratane hara nobutaka, fr)</td>\n",
       "      <td>(se bat, fr)</td>\n",
       "      <td>(your favorite question, en)</td>\n",
       "      <td>(big ben, en)</td>\n",
       "    </tr>\n",
       "    <tr>\n",
       "      <th>28</th>\n",
       "      <td>(pete, en)</td>\n",
       "      <td>(m² elastic, fr)</td>\n",
       "      <td>(formal equivalence, en)</td>\n",
       "      <td>(bills in, en)</td>\n",
       "    </tr>\n",
       "    <tr>\n",
       "      <th>29</th>\n",
       "      <td>(lara fabian, fr)</td>\n",
       "      <td>(speed bei, de)</td>\n",
       "      <td>(alternative courses delivery, en)</td>\n",
       "      <td>(fadern makten, sv)</td>\n",
       "    </tr>\n",
       "    <tr>\n",
       "      <th>30</th>\n",
       "      <td>(et de utilisation, fr)</td>\n",
       "      <td>(hästfordon, sv)</td>\n",
       "      <td>(by complementary misfortune, en)</td>\n",
       "      <td>(will be able, en)</td>\n",
       "    </tr>\n",
       "    <tr>\n",
       "      <th>31</th>\n",
       "      <td>(sony distribuera en dvd, fr)</td>\n",
       "      <td>(nu, sv)</td>\n",
       "      <td>(primacom, de)</td>\n",
       "      <td>(michael smith writes, en)</td>\n",
       "    </tr>\n",
       "    <tr>\n",
       "      <th>32</th>\n",
       "      <td>(internet explorer 6, en)</td>\n",
       "      <td>(syn, sv)</td>\n",
       "      <td>(je nach, de)</td>\n",
       "      <td>(innerst inne inte att, sv)</td>\n",
       "    </tr>\n",
       "    <tr>\n",
       "      <th>33</th>\n",
       "      <td>(doppelter kapazität, de)</td>\n",
       "      <td>(1976 american association, fr)</td>\n",
       "      <td>(bit ethnocentric, en)</td>\n",
       "      <td>(javafx mobile bien, fr)</td>\n",
       "    </tr>\n",
       "    <tr>\n",
       "      <th>34</th>\n",
       "      <td>(i felt angry, en)</td>\n",
       "      <td>(2011, fr)</td>\n",
       "      <td>(large enclosure under conditions, en)</td>\n",
       "      <td>(center and stuff, en)</td>\n",
       "    </tr>\n",
       "    <tr>\n",
       "      <th>35</th>\n",
       "      <td>(den rosa riesen, de)</td>\n",
       "      <td>(sagt, sv)</td>\n",
       "      <td>(trouble, en)</td>\n",
       "      <td>(schweiz ch västtyskland d, sv)</td>\n",
       "    </tr>\n",
       "    <tr>\n",
       "      <th>36</th>\n",
       "      <td>(behandelt, de)</td>\n",
       "      <td>(nedan, sv)</td>\n",
       "      <td>(maj 1970, sv)</td>\n",
       "      <td>(eugene nida, en)</td>\n",
       "    </tr>\n",
       "    <tr>\n",
       "      <th>37</th>\n",
       "      <td>(barn, en)</td>\n",
       "      <td>(thèse ou, fr)</td>\n",
       "      <td>(markfaunan, sv)</td>\n",
       "      <td>(independent, en)</td>\n",
       "    </tr>\n",
       "    <tr>\n",
       "      <th>38</th>\n",
       "      <td>(prerogative, en)</td>\n",
       "      <td>(invalides a, fr)</td>\n",
       "      <td>(alla departement, sv)</td>\n",
       "      <td>(christian rosencreutz, en)</td>\n",
       "    </tr>\n",
       "    <tr>\n",
       "      <th>39</th>\n",
       "      <td>(tarife bestätigt, de)</td>\n",
       "      <td>(group, de)</td>\n",
       "      <td>(jacques payer am, de)</td>\n",
       "      <td>(och inte mindre än, sv)</td>\n",
       "    </tr>\n",
       "    <tr>\n",
       "      <th>40</th>\n",
       "      <td>(50 mark sind, de)</td>\n",
       "      <td>(irlande, fr)</td>\n",
       "      <td>(ende mai, de)</td>\n",
       "      <td>None</td>\n",
       "    </tr>\n",
       "    <tr>\n",
       "      <th>41</th>\n",
       "      <td>(belle, en)</td>\n",
       "      <td>(pro domain, de)</td>\n",
       "      <td>(des aims, de)</td>\n",
       "      <td>None</td>\n",
       "    </tr>\n",
       "    <tr>\n",
       "      <th>42</th>\n",
       "      <td>(still, en)</td>\n",
       "      <td>(royal servi, fr)</td>\n",
       "      <td>(his partner chris cardenas, en)</td>\n",
       "      <td>None</td>\n",
       "    </tr>\n",
       "    <tr>\n",
       "      <th>43</th>\n",
       "      <td>(namen travelstar, de)</td>\n",
       "      <td>(the dream produite par, fr)</td>\n",
       "      <td>(less legitimate, en)</td>\n",
       "      <td>None</td>\n",
       "    </tr>\n",
       "    <tr>\n",
       "      <th>44</th>\n",
       "      <td>(sont dda ddha nna, fr)</td>\n",
       "      <td>(18 juin 2010, fr)</td>\n",
       "      <td>(opposite her, en)</td>\n",
       "      <td>None</td>\n",
       "    </tr>\n",
       "    <tr>\n",
       "      <th>45</th>\n",
       "      <td>(partnern, de)</td>\n",
       "      <td>(mesure m, fr)</td>\n",
       "      <td>(nun alles, de)</td>\n",
       "      <td>None</td>\n",
       "    </tr>\n",
       "    <tr>\n",
       "      <th>46</th>\n",
       "      <td>(of ethnocentrism or evaluating, en)</td>\n",
       "      <td>(piston, fr)</td>\n",
       "      <td>(comdirect muss sparen, de)</td>\n",
       "      <td>None</td>\n",
       "    </tr>\n",
       "    <tr>\n",
       "      <th>47</th>\n",
       "      <td>(anhörung in brüssel, de)</td>\n",
       "      <td>(hit från, sv)</td>\n",
       "      <td>(sufficiently clear nor sufficiently, en)</td>\n",
       "      <td>None</td>\n",
       "    </tr>\n",
       "    <tr>\n",
       "      <th>48</th>\n",
       "      <td>None</td>\n",
       "      <td>(um, de)</td>\n",
       "      <td>(es ende letzten jahres, de)</td>\n",
       "      <td>None</td>\n",
       "    </tr>\n",
       "    <tr>\n",
       "      <th>49</th>\n",
       "      <td>None</td>\n",
       "      <td>(edouard guillaud sur, fr)</td>\n",
       "      <td>(nu ett, sv)</td>\n",
       "      <td>None</td>\n",
       "    </tr>\n",
       "    <tr>\n",
       "      <th>50</th>\n",
       "      <td>None</td>\n",
       "      <td>(ferroviaire, fr)</td>\n",
       "      <td>(a charitable capacity, en)</td>\n",
       "      <td>None</td>\n",
       "    </tr>\n",
       "    <tr>\n",
       "      <th>51</th>\n",
       "      <td>None</td>\n",
       "      <td>(jones, fr)</td>\n",
       "      <td>(idea produces some puzzles, en)</td>\n",
       "      <td>None</td>\n",
       "    </tr>\n",
       "    <tr>\n",
       "      <th>52</th>\n",
       "      <td>None</td>\n",
       "      <td>(bowl, fr)</td>\n",
       "      <td>(plus, de)</td>\n",
       "      <td>None</td>\n",
       "    </tr>\n",
       "    <tr>\n",
       "      <th>53</th>\n",
       "      <td>None</td>\n",
       "      <td>(5 boeing 787, fr)</td>\n",
       "      <td>(siméon poisson reviewed galois, en)</td>\n",
       "      <td>None</td>\n",
       "    </tr>\n",
       "    <tr>\n",
       "      <th>54</th>\n",
       "      <td>None</td>\n",
       "      <td>(inom eec, sv)</td>\n",
       "      <td>(talkline plant im, de)</td>\n",
       "      <td>None</td>\n",
       "    </tr>\n",
       "    <tr>\n",
       "      <th>55</th>\n",
       "      <td>None</td>\n",
       "      <td>(frère philippe, fr)</td>\n",
       "      <td>(aggression hos lämmel, sv)</td>\n",
       "      <td>None</td>\n",
       "    </tr>\n",
       "    <tr>\n",
       "      <th>56</th>\n",
       "      <td>None</td>\n",
       "      <td>(sears, de)</td>\n",
       "      <td>(equivalence, en)</td>\n",
       "      <td>None</td>\n",
       "    </tr>\n",
       "    <tr>\n",
       "      <th>57</th>\n",
       "      <td>None</td>\n",
       "      <td>(men ofta, sv)</td>\n",
       "      <td>(1967 del 1 sos, sv)</td>\n",
       "      <td>None</td>\n",
       "    </tr>\n",
       "    <tr>\n",
       "      <th>58</th>\n",
       "      <td>None</td>\n",
       "      <td>(front national, fr)</td>\n",
       "      <td>(sagte lawrie, de)</td>\n",
       "      <td>None</td>\n",
       "    </tr>\n",
       "    <tr>\n",
       "      <th>59</th>\n",
       "      <td>None</td>\n",
       "      <td>(uchronie, fr)</td>\n",
       "      <td>(scanner artec scanrom, de)</td>\n",
       "      <td>None</td>\n",
       "    </tr>\n",
       "    <tr>\n",
       "      <th>60</th>\n",
       "      <td>None</td>\n",
       "      <td>(lydnad, sv)</td>\n",
       "      <td>(film touchez pas, en)</td>\n",
       "      <td>None</td>\n",
       "    </tr>\n",
       "    <tr>\n",
       "      <th>61</th>\n",
       "      <td>None</td>\n",
       "      <td>(homme accepte, fr)</td>\n",
       "      <td>(develop special trades and, en)</td>\n",
       "      <td>None</td>\n",
       "    </tr>\n",
       "    <tr>\n",
       "      <th>62</th>\n",
       "      <td>None</td>\n",
       "      <td>(2, sv)</td>\n",
       "      <td>(phillip ranja, en)</td>\n",
       "      <td>None</td>\n",
       "    </tr>\n",
       "    <tr>\n",
       "      <th>63</th>\n",
       "      <td>None</td>\n",
       "      <td>(et pépinot, fr)</td>\n",
       "      <td>None</td>\n",
       "      <td>None</td>\n",
       "    </tr>\n",
       "    <tr>\n",
       "      <th>64</th>\n",
       "      <td>None</td>\n",
       "      <td>(nancy, fr)</td>\n",
       "      <td>None</td>\n",
       "      <td>None</td>\n",
       "    </tr>\n",
       "    <tr>\n",
       "      <th>65</th>\n",
       "      <td>None</td>\n",
       "      <td>(steve gomer, fr)</td>\n",
       "      <td>None</td>\n",
       "      <td>None</td>\n",
       "    </tr>\n",
       "    <tr>\n",
       "      <th>66</th>\n",
       "      <td>None</td>\n",
       "      <td>(advance im, de)</td>\n",
       "      <td>None</td>\n",
       "      <td>None</td>\n",
       "    </tr>\n",
       "    <tr>\n",
       "      <th>67</th>\n",
       "      <td>None</td>\n",
       "      <td>(ou af4c, fr)</td>\n",
       "      <td>None</td>\n",
       "      <td>None</td>\n",
       "    </tr>\n",
       "    <tr>\n",
       "      <th>68</th>\n",
       "      <td>None</td>\n",
       "      <td>(ray ventura, fr)</td>\n",
       "      <td>None</td>\n",
       "      <td>None</td>\n",
       "    </tr>\n",
       "    <tr>\n",
       "      <th>69</th>\n",
       "      <td>None</td>\n",
       "      <td>(dold brottslighet, sv)</td>\n",
       "      <td>None</td>\n",
       "      <td>None</td>\n",
       "    </tr>\n",
       "    <tr>\n",
       "      <th>70</th>\n",
       "      <td>None</td>\n",
       "      <td>(cour, fr)</td>\n",
       "      <td>None</td>\n",
       "      <td>None</td>\n",
       "    </tr>\n",
       "    <tr>\n",
       "      <th>71</th>\n",
       "      <td>None</td>\n",
       "      <td>(lassen, de)</td>\n",
       "      <td>None</td>\n",
       "      <td>None</td>\n",
       "    </tr>\n",
       "    <tr>\n",
       "      <th>72</th>\n",
       "      <td>None</td>\n",
       "      <td>(belyst, sv)</td>\n",
       "      <td>None</td>\n",
       "      <td>None</td>\n",
       "    </tr>\n",
       "    <tr>\n",
       "      <th>73</th>\n",
       "      <td>None</td>\n",
       "      <td>(ist relativ, de)</td>\n",
       "      <td>None</td>\n",
       "      <td>None</td>\n",
       "    </tr>\n",
       "    <tr>\n",
       "      <th>74</th>\n",
       "      <td>None</td>\n",
       "      <td>(aimer, fr)</td>\n",
       "      <td>None</td>\n",
       "      <td>None</td>\n",
       "    </tr>\n",
       "    <tr>\n",
       "      <th>75</th>\n",
       "      <td>None</td>\n",
       "      <td>(livbojar, sv)</td>\n",
       "      <td>None</td>\n",
       "      <td>None</td>\n",
       "    </tr>\n",
       "    <tr>\n",
       "      <th>76</th>\n",
       "      <td>None</td>\n",
       "      <td>(émotionnels, fr)</td>\n",
       "      <td>None</td>\n",
       "      <td>None</td>\n",
       "    </tr>\n",
       "    <tr>\n",
       "      <th>77</th>\n",
       "      <td>None</td>\n",
       "      <td>(kusin ruth, sv)</td>\n",
       "      <td>None</td>\n",
       "      <td>None</td>\n",
       "    </tr>\n",
       "    <tr>\n",
       "      <th>78</th>\n",
       "      <td>None</td>\n",
       "      <td>(otto in, de)</td>\n",
       "      <td>None</td>\n",
       "      <td>None</td>\n",
       "    </tr>\n",
       "    <tr>\n",
       "      <th>79</th>\n",
       "      <td>None</td>\n",
       "      <td>(arthur piroton, fr)</td>\n",
       "      <td>None</td>\n",
       "      <td>None</td>\n",
       "    </tr>\n",
       "    <tr>\n",
       "      <th>80</th>\n",
       "      <td>None</td>\n",
       "      <td>(musik news oder, de)</td>\n",
       "      <td>None</td>\n",
       "      <td>None</td>\n",
       "    </tr>\n",
       "    <tr>\n",
       "      <th>81</th>\n",
       "      <td>None</td>\n",
       "      <td>(c et chris udoh, fr)</td>\n",
       "      <td>None</td>\n",
       "      <td>None</td>\n",
       "    </tr>\n",
       "    <tr>\n",
       "      <th>82</th>\n",
       "      <td>None</td>\n",
       "      <td>(smartmove nv, de)</td>\n",
       "      <td>None</td>\n",
       "      <td>None</td>\n",
       "    </tr>\n",
       "    <tr>\n",
       "      <th>83</th>\n",
       "      <td>None</td>\n",
       "      <td>(hus, sv)</td>\n",
       "      <td>None</td>\n",
       "      <td>None</td>\n",
       "    </tr>\n",
       "    <tr>\n",
       "      <th>84</th>\n",
       "      <td>None</td>\n",
       "      <td>(album country small one, fr)</td>\n",
       "      <td>None</td>\n",
       "      <td>None</td>\n",
       "    </tr>\n",
       "    <tr>\n",
       "      <th>85</th>\n",
       "      <td>None</td>\n",
       "      <td>(av, sv)</td>\n",
       "      <td>None</td>\n",
       "      <td>None</td>\n",
       "    </tr>\n",
       "    <tr>\n",
       "      <th>86</th>\n",
       "      <td>None</td>\n",
       "      <td>(browser so, de)</td>\n",
       "      <td>None</td>\n",
       "      <td>None</td>\n",
       "    </tr>\n",
       "    <tr>\n",
       "      <th>87</th>\n",
       "      <td>None</td>\n",
       "      <td>(monuments historiques, fr)</td>\n",
       "      <td>None</td>\n",
       "      <td>None</td>\n",
       "    </tr>\n",
       "    <tr>\n",
       "      <th>88</th>\n",
       "      <td>None</td>\n",
       "      <td>(gallatin andy phillip, fr)</td>\n",
       "      <td>None</td>\n",
       "      <td>None</td>\n",
       "    </tr>\n",
       "    <tr>\n",
       "      <th>89</th>\n",
       "      <td>None</td>\n",
       "      <td>(of macintosh, fr)</td>\n",
       "      <td>None</td>\n",
       "      <td>None</td>\n",
       "    </tr>\n",
       "    <tr>\n",
       "      <th>90</th>\n",
       "      <td>None</td>\n",
       "      <td>(chief executive dg, fr)</td>\n",
       "      <td>None</td>\n",
       "      <td>None</td>\n",
       "    </tr>\n",
       "    <tr>\n",
       "      <th>91</th>\n",
       "      <td>None</td>\n",
       "      <td>(color, de)</td>\n",
       "      <td>None</td>\n",
       "      <td>None</td>\n",
       "    </tr>\n",
       "    <tr>\n",
       "      <th>92</th>\n",
       "      <td>None</td>\n",
       "      <td>(hand inriktas, sv)</td>\n",
       "      <td>None</td>\n",
       "      <td>None</td>\n",
       "    </tr>\n",
       "    <tr>\n",
       "      <th>93</th>\n",
       "      <td>None</td>\n",
       "      <td>(croft, de)</td>\n",
       "      <td>None</td>\n",
       "      <td>None</td>\n",
       "    </tr>\n",
       "    <tr>\n",
       "      <th>94</th>\n",
       "      <td>None</td>\n",
       "      <td>(alla accepterade, sv)</td>\n",
       "      <td>None</td>\n",
       "      <td>None</td>\n",
       "    </tr>\n",
       "    <tr>\n",
       "      <th>95</th>\n",
       "      <td>None</td>\n",
       "      <td>(sa vengeance, fr)</td>\n",
       "      <td>None</td>\n",
       "      <td>None</td>\n",
       "    </tr>\n",
       "    <tr>\n",
       "      <th>96</th>\n",
       "      <td>None</td>\n",
       "      <td>(music sony und, de)</td>\n",
       "      <td>None</td>\n",
       "      <td>None</td>\n",
       "    </tr>\n",
       "    <tr>\n",
       "      <th>97</th>\n",
       "      <td>None</td>\n",
       "      <td>(social institution, sv)</td>\n",
       "      <td>None</td>\n",
       "      <td>None</td>\n",
       "    </tr>\n",
       "    <tr>\n",
       "      <th>98</th>\n",
       "      <td>None</td>\n",
       "      <td>(att hon, sv)</td>\n",
       "      <td>None</td>\n",
       "      <td>None</td>\n",
       "    </tr>\n",
       "    <tr>\n",
       "      <th>99</th>\n",
       "      <td>None</td>\n",
       "      <td>(y a, fr)</td>\n",
       "      <td>None</td>\n",
       "      <td>None</td>\n",
       "    </tr>\n",
       "    <tr>\n",
       "      <th>100</th>\n",
       "      <td>None</td>\n",
       "      <td>(topographe russe, fr)</td>\n",
       "      <td>None</td>\n",
       "      <td>None</td>\n",
       "    </tr>\n",
       "    <tr>\n",
       "      <th>101</th>\n",
       "      <td>None</td>\n",
       "      <td>(halvmesyr, sv)</td>\n",
       "      <td>None</td>\n",
       "      <td>None</td>\n",
       "    </tr>\n",
       "    <tr>\n",
       "      <th>102</th>\n",
       "      <td>None</td>\n",
       "      <td>(relaxé, fr)</td>\n",
       "      <td>None</td>\n",
       "      <td>None</td>\n",
       "    </tr>\n",
       "    <tr>\n",
       "      <th>103</th>\n",
       "      <td>None</td>\n",
       "      <td>(aptitbeteende, sv)</td>\n",
       "      <td>None</td>\n",
       "      <td>None</td>\n",
       "    </tr>\n",
       "    <tr>\n",
       "      <th>104</th>\n",
       "      <td>None</td>\n",
       "      <td>(intervention militaire, fr)</td>\n",
       "      <td>None</td>\n",
       "      <td>None</td>\n",
       "    </tr>\n",
       "    <tr>\n",
       "      <th>105</th>\n",
       "      <td>None</td>\n",
       "      <td>(sagte, de)</td>\n",
       "      <td>None</td>\n",
       "      <td>None</td>\n",
       "    </tr>\n",
       "    <tr>\n",
       "      <th>106</th>\n",
       "      <td>None</td>\n",
       "      <td>(weil reuss in, de)</td>\n",
       "      <td>None</td>\n",
       "      <td>None</td>\n",
       "    </tr>\n",
       "    <tr>\n",
       "      <th>107</th>\n",
       "      <td>None</td>\n",
       "      <td>(rewritable products promotion, de)</td>\n",
       "      <td>None</td>\n",
       "      <td>None</td>\n",
       "    </tr>\n",
       "    <tr>\n",
       "      <th>108</th>\n",
       "      <td>None</td>\n",
       "      <td>(drogue, fr)</td>\n",
       "      <td>None</td>\n",
       "      <td>None</td>\n",
       "    </tr>\n",
       "    <tr>\n",
       "      <th>109</th>\n",
       "      <td>None</td>\n",
       "      <td>(land, sv)</td>\n",
       "      <td>None</td>\n",
       "      <td>None</td>\n",
       "    </tr>\n",
       "    <tr>\n",
       "      <th>110</th>\n",
       "      <td>None</td>\n",
       "      <td>(easy dsl spezial, de)</td>\n",
       "      <td>None</td>\n",
       "      <td>None</td>\n",
       "    </tr>\n",
       "    <tr>\n",
       "      <th>111</th>\n",
       "      <td>None</td>\n",
       "      <td>(reproduction très rapide absence, fr)</td>\n",
       "      <td>None</td>\n",
       "      <td>None</td>\n",
       "    </tr>\n",
       "    <tr>\n",
       "      <th>112</th>\n",
       "      <td>None</td>\n",
       "      <td>(finanz, de)</td>\n",
       "      <td>None</td>\n",
       "      <td>None</td>\n",
       "    </tr>\n",
       "    <tr>\n",
       "      <th>113</th>\n",
       "      <td>None</td>\n",
       "      <td>(what about nemax, de)</td>\n",
       "      <td>None</td>\n",
       "      <td>None</td>\n",
       "    </tr>\n",
       "    <tr>\n",
       "      <th>114</th>\n",
       "      <td>None</td>\n",
       "      <td>(hat jedoch, de)</td>\n",
       "      <td>None</td>\n",
       "      <td>None</td>\n",
       "    </tr>\n",
       "  </tbody>\n",
       "</table>\n",
       "</div>"
      ],
      "text/plain": [
       "                                        sv  \\\n",
       "0                      (jenna marbles, en)   \n",
       "1                            (results, en)   \n",
       "2                           (cukor et, fr)   \n",
       "3                     (hören war doch, de)   \n",
       "4              (nom de villebetmer et, fr)   \n",
       "5                       (sochi russia, en)   \n",
       "6                       (as president, en)   \n",
       "7                       (hinter axero, de)   \n",
       "8                           (lv stuff, en)   \n",
       "9                             (300 32, de)   \n",
       "10             (giovanni bellini 1505, en)   \n",
       "11                      (statt dessen, de)   \n",
       "12   (postbank easytrade per internet, de)   \n",
       "13                              (1971, fr)   \n",
       "14         (varvara yakovleva à titre, fr)   \n",
       "15                              (poet, en)   \n",
       "16                   (rock reggae pop, fr)   \n",
       "17                (it jenna mcmasters, en)   \n",
       "18                             (drupa, de)   \n",
       "19                         (davantage, fr)   \n",
       "20                              (i at, en)   \n",
       "21                           (fertile, fr)   \n",
       "22                     (telekom kappt, de)   \n",
       "23                          (anderson, en)   \n",
       "24                (und edgar bronfman, de)   \n",
       "25                              (bild, de)   \n",
       "26                   (de hattushili i, fr)   \n",
       "27            (toratane hara nobutaka, fr)   \n",
       "28                              (pete, en)   \n",
       "29                       (lara fabian, fr)   \n",
       "30                 (et de utilisation, fr)   \n",
       "31           (sony distribuera en dvd, fr)   \n",
       "32               (internet explorer 6, en)   \n",
       "33               (doppelter kapazität, de)   \n",
       "34                      (i felt angry, en)   \n",
       "35                   (den rosa riesen, de)   \n",
       "36                         (behandelt, de)   \n",
       "37                              (barn, en)   \n",
       "38                       (prerogative, en)   \n",
       "39                  (tarife bestätigt, de)   \n",
       "40                      (50 mark sind, de)   \n",
       "41                             (belle, en)   \n",
       "42                             (still, en)   \n",
       "43                  (namen travelstar, de)   \n",
       "44                 (sont dda ddha nna, fr)   \n",
       "45                          (partnern, de)   \n",
       "46    (of ethnocentrism or evaluating, en)   \n",
       "47               (anhörung in brüssel, de)   \n",
       "48                                    None   \n",
       "49                                    None   \n",
       "50                                    None   \n",
       "51                                    None   \n",
       "52                                    None   \n",
       "53                                    None   \n",
       "54                                    None   \n",
       "55                                    None   \n",
       "56                                    None   \n",
       "57                                    None   \n",
       "58                                    None   \n",
       "59                                    None   \n",
       "60                                    None   \n",
       "61                                    None   \n",
       "62                                    None   \n",
       "63                                    None   \n",
       "64                                    None   \n",
       "65                                    None   \n",
       "66                                    None   \n",
       "67                                    None   \n",
       "68                                    None   \n",
       "69                                    None   \n",
       "70                                    None   \n",
       "71                                    None   \n",
       "72                                    None   \n",
       "73                                    None   \n",
       "74                                    None   \n",
       "75                                    None   \n",
       "76                                    None   \n",
       "77                                    None   \n",
       "78                                    None   \n",
       "79                                    None   \n",
       "80                                    None   \n",
       "81                                    None   \n",
       "82                                    None   \n",
       "83                                    None   \n",
       "84                                    None   \n",
       "85                                    None   \n",
       "86                                    None   \n",
       "87                                    None   \n",
       "88                                    None   \n",
       "89                                    None   \n",
       "90                                    None   \n",
       "91                                    None   \n",
       "92                                    None   \n",
       "93                                    None   \n",
       "94                                    None   \n",
       "95                                    None   \n",
       "96                                    None   \n",
       "97                                    None   \n",
       "98                                    None   \n",
       "99                                    None   \n",
       "100                                   None   \n",
       "101                                   None   \n",
       "102                                   None   \n",
       "103                                   None   \n",
       "104                                   None   \n",
       "105                                   None   \n",
       "106                                   None   \n",
       "107                                   None   \n",
       "108                                   None   \n",
       "109                                   None   \n",
       "110                                   None   \n",
       "111                                   None   \n",
       "112                                   None   \n",
       "113                                   None   \n",
       "114                                   None   \n",
       "\n",
       "                                         en  \\\n",
       "0                             (hofheim, fr)   \n",
       "1                             (actives, fr)   \n",
       "2                          (wissen was, de)   \n",
       "3                                (1985, sv)   \n",
       "4                                (1905, sv)   \n",
       "5                              (lassen, de)   \n",
       "6                       (sa population, fr)   \n",
       "7              (expeditioner valbyråer, sv)   \n",
       "8                          (weg ins in, de)   \n",
       "9                                 (576, fr)   \n",
       "10                              (ingås, sv)   \n",
       "11                                 (ha, sv)   \n",
       "12                            (bromsar, sv)   \n",
       "13          (marcus andronicus annonce, fr)   \n",
       "14                                (tid, sv)   \n",
       "15                     (diskussion hat, de)   \n",
       "16                         (aigu clair, fr)   \n",
       "17                    (fusion mit time, de)   \n",
       "18                (kungsholmens byalag, sv)   \n",
       "19                         (vuxit fram, sv)   \n",
       "20                                (syn, sv)   \n",
       "21                          (system av, sv)   \n",
       "22                         (4 aggregat, sv)   \n",
       "23                            (erst in, de)   \n",
       "24                          (kritik an, de)   \n",
       "25                     (dem meldet the, de)   \n",
       "26                               (ljus, sv)   \n",
       "27                             (se bat, fr)   \n",
       "28                         (m² elastic, fr)   \n",
       "29                          (speed bei, de)   \n",
       "30                         (hästfordon, sv)   \n",
       "31                                 (nu, sv)   \n",
       "32                                (syn, sv)   \n",
       "33          (1976 american association, fr)   \n",
       "34                               (2011, fr)   \n",
       "35                               (sagt, sv)   \n",
       "36                              (nedan, sv)   \n",
       "37                           (thèse ou, fr)   \n",
       "38                        (invalides a, fr)   \n",
       "39                              (group, de)   \n",
       "40                            (irlande, fr)   \n",
       "41                         (pro domain, de)   \n",
       "42                        (royal servi, fr)   \n",
       "43             (the dream produite par, fr)   \n",
       "44                       (18 juin 2010, fr)   \n",
       "45                           (mesure m, fr)   \n",
       "46                             (piston, fr)   \n",
       "47                           (hit från, sv)   \n",
       "48                                 (um, de)   \n",
       "49               (edouard guillaud sur, fr)   \n",
       "50                        (ferroviaire, fr)   \n",
       "51                              (jones, fr)   \n",
       "52                               (bowl, fr)   \n",
       "53                       (5 boeing 787, fr)   \n",
       "54                           (inom eec, sv)   \n",
       "55                     (frère philippe, fr)   \n",
       "56                              (sears, de)   \n",
       "57                           (men ofta, sv)   \n",
       "58                     (front national, fr)   \n",
       "59                           (uchronie, fr)   \n",
       "60                             (lydnad, sv)   \n",
       "61                      (homme accepte, fr)   \n",
       "62                                  (2, sv)   \n",
       "63                         (et pépinot, fr)   \n",
       "64                              (nancy, fr)   \n",
       "65                        (steve gomer, fr)   \n",
       "66                         (advance im, de)   \n",
       "67                            (ou af4c, fr)   \n",
       "68                        (ray ventura, fr)   \n",
       "69                  (dold brottslighet, sv)   \n",
       "70                               (cour, fr)   \n",
       "71                             (lassen, de)   \n",
       "72                             (belyst, sv)   \n",
       "73                        (ist relativ, de)   \n",
       "74                              (aimer, fr)   \n",
       "75                           (livbojar, sv)   \n",
       "76                        (émotionnels, fr)   \n",
       "77                         (kusin ruth, sv)   \n",
       "78                            (otto in, de)   \n",
       "79                     (arthur piroton, fr)   \n",
       "80                    (musik news oder, de)   \n",
       "81                    (c et chris udoh, fr)   \n",
       "82                       (smartmove nv, de)   \n",
       "83                                (hus, sv)   \n",
       "84            (album country small one, fr)   \n",
       "85                                 (av, sv)   \n",
       "86                         (browser so, de)   \n",
       "87              (monuments historiques, fr)   \n",
       "88              (gallatin andy phillip, fr)   \n",
       "89                       (of macintosh, fr)   \n",
       "90                 (chief executive dg, fr)   \n",
       "91                              (color, de)   \n",
       "92                      (hand inriktas, sv)   \n",
       "93                              (croft, de)   \n",
       "94                   (alla accepterade, sv)   \n",
       "95                       (sa vengeance, fr)   \n",
       "96                     (music sony und, de)   \n",
       "97                 (social institution, sv)   \n",
       "98                            (att hon, sv)   \n",
       "99                                (y a, fr)   \n",
       "100                  (topographe russe, fr)   \n",
       "101                         (halvmesyr, sv)   \n",
       "102                            (relaxé, fr)   \n",
       "103                     (aptitbeteende, sv)   \n",
       "104            (intervention militaire, fr)   \n",
       "105                             (sagte, de)   \n",
       "106                     (weil reuss in, de)   \n",
       "107     (rewritable products promotion, de)   \n",
       "108                            (drogue, fr)   \n",
       "109                              (land, sv)   \n",
       "110                  (easy dsl spezial, de)   \n",
       "111  (reproduction très rapide absence, fr)   \n",
       "112                            (finanz, de)   \n",
       "113                  (what about nemax, de)   \n",
       "114                        (hat jedoch, de)   \n",
       "\n",
       "                                            fr  \\\n",
       "0                             (semaine de, en)   \n",
       "1                        (madame tussauds, en)   \n",
       "2                           (more details, en)   \n",
       "3                                   (divx, de)   \n",
       "4                              (chet clem, en)   \n",
       "5                          (zirka 20 euro, de)   \n",
       "6                             (irrelevant, en)   \n",
       "7                                 (liquid, en)   \n",
       "8                             (480 pixeln, de)   \n",
       "9                                 (balans, sv)   \n",
       "10                      (voice stammt den, de)   \n",
       "11                            (intressant, sv)   \n",
       "12                        (video miharris, en)   \n",
       "13                       (camp councillor, en)   \n",
       "14                       (quite a problem, en)   \n",
       "15                                (priser, sv)   \n",
       "16                    (prozess durch alle, de)   \n",
       "17                              (purposes, en)   \n",
       "18                            (term plans, en)   \n",
       "19                   (höchst dubios sagte, de)   \n",
       "20                        (patrick gordon, en)   \n",
       "21                                (1994 6, en)   \n",
       "22                               (portale, de)   \n",
       "23                     (anime fantasy and, en)   \n",
       "24                          (its pressure, en)   \n",
       "25                   (potential employers, en)   \n",
       "26                        (silicon valley, de)   \n",
       "27                (your favorite question, en)   \n",
       "28                    (formal equivalence, en)   \n",
       "29          (alternative courses delivery, en)   \n",
       "30           (by complementary misfortune, en)   \n",
       "31                              (primacom, de)   \n",
       "32                               (je nach, de)   \n",
       "33                      (bit ethnocentric, en)   \n",
       "34      (large enclosure under conditions, en)   \n",
       "35                               (trouble, en)   \n",
       "36                              (maj 1970, sv)   \n",
       "37                            (markfaunan, sv)   \n",
       "38                      (alla departement, sv)   \n",
       "39                      (jacques payer am, de)   \n",
       "40                              (ende mai, de)   \n",
       "41                              (des aims, de)   \n",
       "42            (his partner chris cardenas, en)   \n",
       "43                       (less legitimate, en)   \n",
       "44                          (opposite her, en)   \n",
       "45                             (nun alles, de)   \n",
       "46                 (comdirect muss sparen, de)   \n",
       "47   (sufficiently clear nor sufficiently, en)   \n",
       "48                (es ende letzten jahres, de)   \n",
       "49                                (nu ett, sv)   \n",
       "50                 (a charitable capacity, en)   \n",
       "51            (idea produces some puzzles, en)   \n",
       "52                                  (plus, de)   \n",
       "53        (siméon poisson reviewed galois, en)   \n",
       "54                     (talkline plant im, de)   \n",
       "55                 (aggression hos lämmel, sv)   \n",
       "56                           (equivalence, en)   \n",
       "57                        (1967 del 1 sos, sv)   \n",
       "58                          (sagte lawrie, de)   \n",
       "59                 (scanner artec scanrom, de)   \n",
       "60                      (film touchez pas, en)   \n",
       "61            (develop special trades and, en)   \n",
       "62                         (phillip ranja, en)   \n",
       "63                                        None   \n",
       "64                                        None   \n",
       "65                                        None   \n",
       "66                                        None   \n",
       "67                                        None   \n",
       "68                                        None   \n",
       "69                                        None   \n",
       "70                                        None   \n",
       "71                                        None   \n",
       "72                                        None   \n",
       "73                                        None   \n",
       "74                                        None   \n",
       "75                                        None   \n",
       "76                                        None   \n",
       "77                                        None   \n",
       "78                                        None   \n",
       "79                                        None   \n",
       "80                                        None   \n",
       "81                                        None   \n",
       "82                                        None   \n",
       "83                                        None   \n",
       "84                                        None   \n",
       "85                                        None   \n",
       "86                                        None   \n",
       "87                                        None   \n",
       "88                                        None   \n",
       "89                                        None   \n",
       "90                                        None   \n",
       "91                                        None   \n",
       "92                                        None   \n",
       "93                                        None   \n",
       "94                                        None   \n",
       "95                                        None   \n",
       "96                                        None   \n",
       "97                                        None   \n",
       "98                                        None   \n",
       "99                                        None   \n",
       "100                                       None   \n",
       "101                                       None   \n",
       "102                                       None   \n",
       "103                                       None   \n",
       "104                                       None   \n",
       "105                                       None   \n",
       "106                                       None   \n",
       "107                                       None   \n",
       "108                                       None   \n",
       "109                                       None   \n",
       "110                                       None   \n",
       "111                                       None   \n",
       "112                                       None   \n",
       "113                                       None   \n",
       "114                                       None   \n",
       "\n",
       "                                   de  \n",
       "0              (gendarmerie vont, fr)  \n",
       "1              (sovereign people, en)  \n",
       "2                     (comprimer, fr)  \n",
       "3               (die sooner when, en)  \n",
       "4                      (del 2 59, sv)  \n",
       "5                    (90 minutes, fr)  \n",
       "6                           (dem, sv)  \n",
       "7                     (att ge de, sv)  \n",
       "8                        (church, en)  \n",
       "9    (comme nan goldin printemps, fr)  \n",
       "10                (neutraliteten, sv)  \n",
       "11                  (15 november, sv)  \n",
       "12   (volunteers and soldiers of, en)  \n",
       "13                 (states until, en)  \n",
       "14                     (ges inte, sv)  \n",
       "15                      (en 2005, fr)  \n",
       "16                (mittlinje kan, sv)  \n",
       "17                   (zuckerberg, en)  \n",
       "18       (statens naturvårdsverk, sv)  \n",
       "19                     (jag inte, sv)  \n",
       "20              (gymnasiestudier, sv)  \n",
       "21   (adverb auxiliary verb main, en)  \n",
       "22                (limb geometry, en)  \n",
       "23              (1856 macnab fut, fr)  \n",
       "24                       (kuvert, sv)  \n",
       "25                 (kommissionen, sv)  \n",
       "26             (state commitment, en)  \n",
       "27                      (big ben, en)  \n",
       "28                     (bills in, en)  \n",
       "29                (fadern makten, sv)  \n",
       "30                 (will be able, en)  \n",
       "31         (michael smith writes, en)  \n",
       "32        (innerst inne inte att, sv)  \n",
       "33           (javafx mobile bien, fr)  \n",
       "34             (center and stuff, en)  \n",
       "35    (schweiz ch västtyskland d, sv)  \n",
       "36                  (eugene nida, en)  \n",
       "37                  (independent, en)  \n",
       "38        (christian rosencreutz, en)  \n",
       "39           (och inte mindre än, sv)  \n",
       "40                               None  \n",
       "41                               None  \n",
       "42                               None  \n",
       "43                               None  \n",
       "44                               None  \n",
       "45                               None  \n",
       "46                               None  \n",
       "47                               None  \n",
       "48                               None  \n",
       "49                               None  \n",
       "50                               None  \n",
       "51                               None  \n",
       "52                               None  \n",
       "53                               None  \n",
       "54                               None  \n",
       "55                               None  \n",
       "56                               None  \n",
       "57                               None  \n",
       "58                               None  \n",
       "59                               None  \n",
       "60                               None  \n",
       "61                               None  \n",
       "62                               None  \n",
       "63                               None  \n",
       "64                               None  \n",
       "65                               None  \n",
       "66                               None  \n",
       "67                               None  \n",
       "68                               None  \n",
       "69                               None  \n",
       "70                               None  \n",
       "71                               None  \n",
       "72                               None  \n",
       "73                               None  \n",
       "74                               None  \n",
       "75                               None  \n",
       "76                               None  \n",
       "77                               None  \n",
       "78                               None  \n",
       "79                               None  \n",
       "80                               None  \n",
       "81                               None  \n",
       "82                               None  \n",
       "83                               None  \n",
       "84                               None  \n",
       "85                               None  \n",
       "86                               None  \n",
       "87                               None  \n",
       "88                               None  \n",
       "89                               None  \n",
       "90                               None  \n",
       "91                               None  \n",
       "92                               None  \n",
       "93                               None  \n",
       "94                               None  \n",
       "95                               None  \n",
       "96                               None  \n",
       "97                               None  \n",
       "98                               None  \n",
       "99                               None  \n",
       "100                              None  \n",
       "101                              None  \n",
       "102                              None  \n",
       "103                              None  \n",
       "104                              None  \n",
       "105                              None  \n",
       "106                              None  \n",
       "107                              None  \n",
       "108                              None  \n",
       "109                              None  \n",
       "110                              None  \n",
       "111                              None  \n",
       "112                              None  \n",
       "113                              None  \n",
       "114                              None  "
      ]
     },
     "execution_count": 11,
     "metadata": {},
     "output_type": "execute_result"
    }
   ],
   "source": [
    "# get incorrectly predicted tokens by the perceptron and logistic regression models.\n",
    "index_class = {0:\"de\", 1:\"en\", 2:\"fr\", 3:\"sv\"}\n",
    "def get_incorrect_class(dev_pred, dev_y):\n",
    "    \"\"\"retrieve incorrectly predicted tokens, including text, gold label and predicted label\"\"\"\n",
    "    incorr_sys_class = defaultdict(list)\n",
    "    idx = 0\n",
    "    for pred_idx, gold_idx in zip(dev_pred, dev_y):\n",
    "        if pred_idx != gold_idx:\n",
    "            incorr_sys_class[(index_class[pred_idx])].append((dev.text[idx],index_class[gold_idx]))\n",
    "        idx += 1\n",
    "    return incorr_sys_class\n",
    "incorr_pcpt_sys_class = get_incorrect_class(pcpt_sys_dev_y, dev_y)\n",
    "incorr_lr_sys_class = get_incorrect_class(lr_sys_dev_y, dev_y)\n",
    "\n",
    "df = pd.DataFrame.from_dict(incorr_lr_sys_class, orient='index')\n",
    "pd.set_option('display.max_rows', df.transpose().shape[0]+1)\n",
    "df.transpose()"
   ]
  },
  {
   "cell_type": "markdown",
   "id": "f01ea7f4",
   "metadata": {},
   "source": [
    "For both models, you should fine-tune hyperparameters and improve your feature extraction. Try to find a combination of features and hyperparameters which gives you optimal performance on the development data.\n",
    "\n",
    "For perceptron, you need to fine-tune at least:\n",
    "* Training epoch count\n",
    "\n",
    "For logistic regression, you need to fine-tune at least:\n",
    "* Training epoch count\n",
    "* Regularization strength\n",
    "* Type of regularization (l1 or l2)\n",
    "\n",
    "Both models include other hyperparameters which you can also tune if you like. This can help with performance.\n",
    "\n",
    "For both classifiers, you need to get f-score > 93% on the development data to get full score for this assignment and an improvement of at least 0.1%-points over your untuned f-scores.\n",
    "\n",
    "**HINT:** In order to use `l1` regularization, you need to provide the parameter `solver=\"liblinear\"` when initializing `LogisticRegression`. The default algorithm which is used for fitting model parameters [BFGS](https://en.wikipedia.org/wiki/Broyden%E2%80%93Fletcher%E2%80%93Goldfarb%E2%80%93Shanno_algorithm) cannot handle `l1`. \n",
    "\n",
    "In your report (question 7), you should describe the hyperparameter fine-tuning process."
   ]
  },
  {
   "cell_type": "code",
   "execution_count": 13,
   "id": "17cff64f",
   "metadata": {
    "scrolled": true
   },
   "outputs": [],
   "source": [
    "# fine tune features\n",
    "def char_ngram(text, maxn, maxlen):\n",
    "    ngram = []\n",
    "    for i in range(0, len(text) + 1 - maxn):\n",
    "        for j in range(i + maxn, min(i + maxn + 1, len(text) + 1)):\n",
    "            ngram.append(text[i:j])\n",
    "    return ngram\n",
    "def feature_extraction(data):\n",
    "    # extract features from text and gather langauge tags\n",
    "    data_features = []\n",
    "    for text in data.text:\n",
    "        features = {\n",
    "            \"char_unigram\" : char_ngram(text, 1, 70), # character unigram\n",
    "            \"char_bigram\" : char_ngram(text, 2, 70), # character bigram\n",
    "            \"char_trigram\" : char_ngram(text, 3, 70), # character trigram\n",
    "            \"char_quadgram\" : char_ngram(text, 4, 70), # character 4-gram\n",
    "            \"char_pentagram\" : char_ngram(text, 5, 70), # character 5-gram\n",
    "            \"en_word_no\": len([word for word in text.split(\" \") if word in en_df.inflected.iloc[1]]), # number of English inflected word\n",
    "            \"fr_word_no\": len([word for word in text.split(\" \") if word in fr_df.inflected.iloc[1]]), # number of French inflected word\n",
    "            \"de_word_no\": len([word for word in text.split(\" \") if word in de_df.inflected.iloc[1]]), # number of German inflected word\n",
    "            \"sv_word_no\": len([word for word in text.split(\" \") if word in sv_df.inflected.iloc[1]]), # number of Swedish inflected word\n",
    "            \"word_suff_1\": [word[-1:] for word in text.split(\" \")], # last character as word suffix\n",
    "            \"word_suff_2\": [word[-2:] for word in text.split(\" \")], # last two characters as word suffix\n",
    "            \"word_suff_3\": [word[-3:] for word in text.split(\" \")], # last three characters as word suffix\n",
    "            \"word_suff_4\": [word[-4:] for word in text.split(\" \")] # last four characters as word suffix\n",
    "        }\n",
    "        if len(list(set(text.split(\" \")) & set(['a', \"an\", \"the\", \"is\", \"are\", \"was\", \"were\"])))>0:  # existance of English common word\n",
    "            features[\"EN_common_word\"] = \"YES\"\n",
    "        if len(list(set(text.split(\" \")) & set([\"un\", \"une\", \"le\", \"la\", \"est\", \"de\", \"et\"])))>0: # existance of French common word, added \"de\", \"et\"\n",
    "            features[\"FR_common_word\"] = \"YES\"\n",
    "        if len(list(set(text.split(\" \")) & set([\"ein\", \"eine\", \"die\", \"der\", \"ist\", \"sind\"])))>0: # existance of German common word, added \"sind\"\n",
    "            features[\"DE_common_word\"] = \"YES\"\n",
    "        if len(list(set(text.split(\" \")) & set([\"en\", \"ett\", \"är\", \"var\", \"det\"])))>0:  # existance of Swedish common word\n",
    "            features[\"SV_common_word\"] = \"YES\"\n",
    "            \n",
    "        data_features.append(features)\n",
    "    return data_features"
   ]
  },
  {
   "cell_type": "code",
   "execution_count": 14,
   "id": "cfe67fe6",
   "metadata": {},
   "outputs": [
    {
     "name": "stderr",
     "output_type": "stream",
     "text": [
      "C:\\Users\\User\\Anaconda3\\lib\\site-packages\\sklearn\\linear_model\\_stochastic_gradient.py:700: ConvergenceWarning: Maximum number of iteration reached before convergence. Consider increasing max_iter to improve the fit.\n",
      "  ConvergenceWarning,\n"
     ]
    },
    {
     "name": "stdout",
     "output_type": "stream",
     "text": [
      "Epoch:1, f-score: 0.8742532071673981\n"
     ]
    },
    {
     "name": "stderr",
     "output_type": "stream",
     "text": [
      "C:\\Users\\User\\Anaconda3\\lib\\site-packages\\sklearn\\linear_model\\_stochastic_gradient.py:700: ConvergenceWarning: Maximum number of iteration reached before convergence. Consider increasing max_iter to improve the fit.\n",
      "  ConvergenceWarning,\n"
     ]
    },
    {
     "name": "stdout",
     "output_type": "stream",
     "text": [
      "Epoch:2, f-score: 0.9169028515911204\n"
     ]
    },
    {
     "name": "stderr",
     "output_type": "stream",
     "text": [
      "C:\\Users\\User\\Anaconda3\\lib\\site-packages\\sklearn\\linear_model\\_stochastic_gradient.py:700: ConvergenceWarning: Maximum number of iteration reached before convergence. Consider increasing max_iter to improve the fit.\n",
      "  ConvergenceWarning,\n"
     ]
    },
    {
     "name": "stdout",
     "output_type": "stream",
     "text": [
      "Epoch:3, f-score: 0.9138680601352698\n"
     ]
    },
    {
     "name": "stderr",
     "output_type": "stream",
     "text": [
      "C:\\Users\\User\\Anaconda3\\lib\\site-packages\\sklearn\\linear_model\\_stochastic_gradient.py:700: ConvergenceWarning: Maximum number of iteration reached before convergence. Consider increasing max_iter to improve the fit.\n",
      "  ConvergenceWarning,\n"
     ]
    },
    {
     "name": "stdout",
     "output_type": "stream",
     "text": [
      "Epoch:4, f-score: 0.9270857438263894\n"
     ]
    },
    {
     "name": "stderr",
     "output_type": "stream",
     "text": [
      "C:\\Users\\User\\Anaconda3\\lib\\site-packages\\sklearn\\linear_model\\_stochastic_gradient.py:700: ConvergenceWarning: Maximum number of iteration reached before convergence. Consider increasing max_iter to improve the fit.\n",
      "  ConvergenceWarning,\n"
     ]
    },
    {
     "name": "stdout",
     "output_type": "stream",
     "text": [
      "Epoch:5, f-score: 0.9298338102599981\n"
     ]
    },
    {
     "name": "stderr",
     "output_type": "stream",
     "text": [
      "C:\\Users\\User\\Anaconda3\\lib\\site-packages\\sklearn\\linear_model\\_stochastic_gradient.py:700: ConvergenceWarning: Maximum number of iteration reached before convergence. Consider increasing max_iter to improve the fit.\n",
      "  ConvergenceWarning,\n"
     ]
    },
    {
     "name": "stdout",
     "output_type": "stream",
     "text": [
      "Epoch:6, f-score: 0.9247733966142477\n"
     ]
    },
    {
     "name": "stderr",
     "output_type": "stream",
     "text": [
      "C:\\Users\\User\\Anaconda3\\lib\\site-packages\\sklearn\\linear_model\\_stochastic_gradient.py:700: ConvergenceWarning: Maximum number of iteration reached before convergence. Consider increasing max_iter to improve the fit.\n",
      "  ConvergenceWarning,\n"
     ]
    },
    {
     "name": "stdout",
     "output_type": "stream",
     "text": [
      "Epoch:7, f-score: 0.9319312270040501\n"
     ]
    },
    {
     "name": "stderr",
     "output_type": "stream",
     "text": [
      "C:\\Users\\User\\Anaconda3\\lib\\site-packages\\sklearn\\linear_model\\_stochastic_gradient.py:700: ConvergenceWarning: Maximum number of iteration reached before convergence. Consider increasing max_iter to improve the fit.\n",
      "  ConvergenceWarning,\n"
     ]
    },
    {
     "name": "stdout",
     "output_type": "stream",
     "text": [
      "Epoch:8, f-score: 0.9307439067586734\n"
     ]
    },
    {
     "name": "stderr",
     "output_type": "stream",
     "text": [
      "C:\\Users\\User\\Anaconda3\\lib\\site-packages\\sklearn\\linear_model\\_stochastic_gradient.py:700: ConvergenceWarning: Maximum number of iteration reached before convergence. Consider increasing max_iter to improve the fit.\n",
      "  ConvergenceWarning,\n"
     ]
    },
    {
     "name": "stdout",
     "output_type": "stream",
     "text": [
      "Epoch:9, f-score: 0.9281312294931425\n"
     ]
    },
    {
     "name": "stderr",
     "output_type": "stream",
     "text": [
      "C:\\Users\\User\\Anaconda3\\lib\\site-packages\\sklearn\\linear_model\\_stochastic_gradient.py:700: ConvergenceWarning: Maximum number of iteration reached before convergence. Consider increasing max_iter to improve the fit.\n",
      "  ConvergenceWarning,\n"
     ]
    },
    {
     "name": "stdout",
     "output_type": "stream",
     "text": [
      "Epoch:10, f-score: 0.9356688108919853\n"
     ]
    },
    {
     "name": "stderr",
     "output_type": "stream",
     "text": [
      "C:\\Users\\User\\Anaconda3\\lib\\site-packages\\sklearn\\linear_model\\_stochastic_gradient.py:700: ConvergenceWarning: Maximum number of iteration reached before convergence. Consider increasing max_iter to improve the fit.\n",
      "  ConvergenceWarning,\n"
     ]
    },
    {
     "name": "stdout",
     "output_type": "stream",
     "text": [
      "Epoch:11, f-score: 0.9339600223711402\n"
     ]
    },
    {
     "name": "stderr",
     "output_type": "stream",
     "text": [
      "C:\\Users\\User\\Anaconda3\\lib\\site-packages\\sklearn\\linear_model\\_stochastic_gradient.py:700: ConvergenceWarning: Maximum number of iteration reached before convergence. Consider increasing max_iter to improve the fit.\n",
      "  ConvergenceWarning,\n"
     ]
    },
    {
     "name": "stdout",
     "output_type": "stream",
     "text": [
      "Epoch:12, f-score: 0.9349152026341898\n"
     ]
    },
    {
     "name": "stderr",
     "output_type": "stream",
     "text": [
      "C:\\Users\\User\\Anaconda3\\lib\\site-packages\\sklearn\\linear_model\\_stochastic_gradient.py:700: ConvergenceWarning: Maximum number of iteration reached before convergence. Consider increasing max_iter to improve the fit.\n",
      "  ConvergenceWarning,\n"
     ]
    },
    {
     "name": "stdout",
     "output_type": "stream",
     "text": [
      "Epoch:13, f-score: 0.9353496058812679\n"
     ]
    },
    {
     "name": "stderr",
     "output_type": "stream",
     "text": [
      "C:\\Users\\User\\Anaconda3\\lib\\site-packages\\sklearn\\linear_model\\_stochastic_gradient.py:700: ConvergenceWarning: Maximum number of iteration reached before convergence. Consider increasing max_iter to improve the fit.\n",
      "  ConvergenceWarning,\n"
     ]
    },
    {
     "name": "stdout",
     "output_type": "stream",
     "text": [
      "Epoch:14, f-score: 0.9359238249441162\n"
     ]
    },
    {
     "name": "stderr",
     "output_type": "stream",
     "text": [
      "C:\\Users\\User\\Anaconda3\\lib\\site-packages\\sklearn\\linear_model\\_stochastic_gradient.py:700: ConvergenceWarning: Maximum number of iteration reached before convergence. Consider increasing max_iter to improve the fit.\n",
      "  ConvergenceWarning,\n"
     ]
    },
    {
     "name": "stdout",
     "output_type": "stream",
     "text": [
      "Epoch:15, f-score: 0.9345583306986962\n"
     ]
    },
    {
     "name": "stderr",
     "output_type": "stream",
     "text": [
      "C:\\Users\\User\\Anaconda3\\lib\\site-packages\\sklearn\\linear_model\\_stochastic_gradient.py:700: ConvergenceWarning: Maximum number of iteration reached before convergence. Consider increasing max_iter to improve the fit.\n",
      "  ConvergenceWarning,\n"
     ]
    },
    {
     "name": "stdout",
     "output_type": "stream",
     "text": [
      "Epoch:16, f-score: 0.932900783024593\n"
     ]
    },
    {
     "name": "stderr",
     "output_type": "stream",
     "text": [
      "C:\\Users\\User\\Anaconda3\\lib\\site-packages\\sklearn\\linear_model\\_stochastic_gradient.py:700: ConvergenceWarning: Maximum number of iteration reached before convergence. Consider increasing max_iter to improve the fit.\n",
      "  ConvergenceWarning,\n"
     ]
    },
    {
     "name": "stdout",
     "output_type": "stream",
     "text": [
      "Epoch:17, f-score: 0.9333946067607615\n"
     ]
    },
    {
     "name": "stderr",
     "output_type": "stream",
     "text": [
      "C:\\Users\\User\\Anaconda3\\lib\\site-packages\\sklearn\\linear_model\\_stochastic_gradient.py:700: ConvergenceWarning: Maximum number of iteration reached before convergence. Consider increasing max_iter to improve the fit.\n",
      "  ConvergenceWarning,\n"
     ]
    },
    {
     "name": "stdout",
     "output_type": "stream",
     "text": [
      "Epoch:18, f-score: 0.9324976928921618\n"
     ]
    },
    {
     "name": "stderr",
     "output_type": "stream",
     "text": [
      "C:\\Users\\User\\Anaconda3\\lib\\site-packages\\sklearn\\linear_model\\_stochastic_gradient.py:700: ConvergenceWarning: Maximum number of iteration reached before convergence. Consider increasing max_iter to improve the fit.\n",
      "  ConvergenceWarning,\n"
     ]
    },
    {
     "name": "stdout",
     "output_type": "stream",
     "text": [
      "Epoch:19, f-score: 0.9351876705552478\n",
      "Epoch:20, f-score: 0.9351876705552478\n",
      "Best epoch:14, best f-score: 0.9359238249441162\n"
     ]
    }
   ],
   "source": [
    "# hyperparameter tuning for the perceptron classifier: epoch from 1-20\n",
    "# Best epoch is 14, F1-scocre reached 0.9359 after tuning, and increased from 0.9073 from pre-tuning.\n",
    "def encode_and_train(train, dev, test, vectorizer, classifier):\n",
    "    \"\"\"get features for train, dev, and test and then vectorize. Then fit the classifier\"\"\"\n",
    "    train_features = feature_extraction(train)\n",
    "    dev_features= feature_extraction(dev)\n",
    "    test_features = feature_extraction(test)\n",
    "\n",
    "    train_X = vectorizer.fit_transform(train_features)\n",
    "    dev_X = vectorizer.transform(dev_features)\n",
    "    test_X = vectorizer.transform(test_features)\n",
    "\n",
    "    classifier.fit(train_X, train_y)\n",
    "    \n",
    "    return train_X, dev_X, test_X, classifier\n",
    "\n",
    "def evaluate(data_X, data_y, classifier):\n",
    "    \"\"\"predict based on features and then evaluate\"\"\"\n",
    "    sys_data_y = classifier.predict(data_X)\n",
    "    return f1_score(data_y, sys_data_y, average='macro')\n",
    "\n",
    "vectorizer = DictVectorizer()\n",
    "\n",
    "best_f_score = 0\n",
    "best_pcpt_epoch = 0\n",
    "\n",
    "for epoch in range(1,21):\n",
    "    classifier =  Perceptron(max_iter=epoch)\n",
    "    train_X, dev_X, test_X, classifier = encode_and_train(train, dev, test, vectorizer, classifier)\n",
    "    f_score = evaluate(dev_X, dev_y, classifier)\n",
    "    if f_score > best_f_score:\n",
    "        best_f_score = f_score\n",
    "        best_pcpt_epoch = epoch\n",
    "\n",
    "    print(f\"Epoch:{epoch}, f-score: {f_score}\")\n",
    "print(f\"Best epoch:{best_pcpt_epoch}, best f-score: {best_f_score}\")"
   ]
  },
  {
   "cell_type": "code",
   "execution_count": 15,
   "id": "e5f37245-937d-4677-8611-18e2394ea33a",
   "metadata": {},
   "outputs": [
    {
     "name": "stderr",
     "output_type": "stream",
     "text": [
      "C:\\Users\\User\\Anaconda3\\lib\\site-packages\\sklearn\\svm\\_base.py:1208: ConvergenceWarning: Liblinear failed to converge, increase the number of iterations.\n",
      "  ConvergenceWarning,\n"
     ]
    },
    {
     "name": "stdout",
     "output_type": "stream",
     "text": [
      "Epoch:1, Regularization:l1, strength:1, f-score: 0.9002930097241219\n"
     ]
    },
    {
     "name": "stderr",
     "output_type": "stream",
     "text": [
      "C:\\Users\\User\\Anaconda3\\lib\\site-packages\\sklearn\\svm\\_base.py:1208: ConvergenceWarning: Liblinear failed to converge, increase the number of iterations.\n",
      "  ConvergenceWarning,\n"
     ]
    },
    {
     "name": "stdout",
     "output_type": "stream",
     "text": [
      "Epoch:1, Regularization:l1, strength:5, f-score: 0.8464643084393764\n"
     ]
    },
    {
     "name": "stderr",
     "output_type": "stream",
     "text": [
      "C:\\Users\\User\\Anaconda3\\lib\\site-packages\\sklearn\\svm\\_base.py:1208: ConvergenceWarning: Liblinear failed to converge, increase the number of iterations.\n",
      "  ConvergenceWarning,\n"
     ]
    },
    {
     "name": "stdout",
     "output_type": "stream",
     "text": [
      "Epoch:1, Regularization:l1, strength:10, f-score: 0.8202520429463062\n"
     ]
    },
    {
     "name": "stderr",
     "output_type": "stream",
     "text": [
      "C:\\Users\\User\\Anaconda3\\lib\\site-packages\\sklearn\\svm\\_base.py:1208: ConvergenceWarning: Liblinear failed to converge, increase the number of iterations.\n",
      "  ConvergenceWarning,\n"
     ]
    },
    {
     "name": "stdout",
     "output_type": "stream",
     "text": [
      "Epoch:1, Regularization:l2, strength:1, f-score: 0.8755347989255238\n"
     ]
    },
    {
     "name": "stderr",
     "output_type": "stream",
     "text": [
      "C:\\Users\\User\\Anaconda3\\lib\\site-packages\\sklearn\\svm\\_base.py:1208: ConvergenceWarning: Liblinear failed to converge, increase the number of iterations.\n",
      "  ConvergenceWarning,\n"
     ]
    },
    {
     "name": "stdout",
     "output_type": "stream",
     "text": [
      "Epoch:1, Regularization:l2, strength:5, f-score: 0.8751960283155092\n"
     ]
    },
    {
     "name": "stderr",
     "output_type": "stream",
     "text": [
      "C:\\Users\\User\\Anaconda3\\lib\\site-packages\\sklearn\\svm\\_base.py:1208: ConvergenceWarning: Liblinear failed to converge, increase the number of iterations.\n",
      "  ConvergenceWarning,\n"
     ]
    },
    {
     "name": "stdout",
     "output_type": "stream",
     "text": [
      "Epoch:1, Regularization:l2, strength:10, f-score: 0.8755347989255238\n"
     ]
    },
    {
     "name": "stderr",
     "output_type": "stream",
     "text": [
      "C:\\Users\\User\\Anaconda3\\lib\\site-packages\\sklearn\\svm\\_base.py:1208: ConvergenceWarning: Liblinear failed to converge, increase the number of iterations.\n",
      "  ConvergenceWarning,\n"
     ]
    },
    {
     "name": "stdout",
     "output_type": "stream",
     "text": [
      "Epoch:2, Regularization:l1, strength:1, f-score: 0.9180331649258742\n"
     ]
    },
    {
     "name": "stderr",
     "output_type": "stream",
     "text": [
      "C:\\Users\\User\\Anaconda3\\lib\\site-packages\\sklearn\\svm\\_base.py:1208: ConvergenceWarning: Liblinear failed to converge, increase the number of iterations.\n",
      "  ConvergenceWarning,\n"
     ]
    },
    {
     "name": "stdout",
     "output_type": "stream",
     "text": [
      "Epoch:2, Regularization:l1, strength:5, f-score: 0.9245121149530815\n"
     ]
    },
    {
     "name": "stderr",
     "output_type": "stream",
     "text": [
      "C:\\Users\\User\\Anaconda3\\lib\\site-packages\\sklearn\\svm\\_base.py:1208: ConvergenceWarning: Liblinear failed to converge, increase the number of iterations.\n",
      "  ConvergenceWarning,\n"
     ]
    },
    {
     "name": "stdout",
     "output_type": "stream",
     "text": [
      "Epoch:2, Regularization:l1, strength:10, f-score: 0.912295801107267\n"
     ]
    },
    {
     "name": "stderr",
     "output_type": "stream",
     "text": [
      "C:\\Users\\User\\Anaconda3\\lib\\site-packages\\sklearn\\svm\\_base.py:1208: ConvergenceWarning: Liblinear failed to converge, increase the number of iterations.\n",
      "  ConvergenceWarning,\n"
     ]
    },
    {
     "name": "stdout",
     "output_type": "stream",
     "text": [
      "Epoch:2, Regularization:l2, strength:1, f-score: 0.9047338186578706\n"
     ]
    },
    {
     "name": "stderr",
     "output_type": "stream",
     "text": [
      "C:\\Users\\User\\Anaconda3\\lib\\site-packages\\sklearn\\svm\\_base.py:1208: ConvergenceWarning: Liblinear failed to converge, increase the number of iterations.\n",
      "  ConvergenceWarning,\n"
     ]
    },
    {
     "name": "stdout",
     "output_type": "stream",
     "text": [
      "Epoch:2, Regularization:l2, strength:5, f-score: 0.904386244041102\n"
     ]
    },
    {
     "name": "stderr",
     "output_type": "stream",
     "text": [
      "C:\\Users\\User\\Anaconda3\\lib\\site-packages\\sklearn\\svm\\_base.py:1208: ConvergenceWarning: Liblinear failed to converge, increase the number of iterations.\n",
      "  ConvergenceWarning,\n"
     ]
    },
    {
     "name": "stdout",
     "output_type": "stream",
     "text": [
      "Epoch:2, Regularization:l2, strength:10, f-score: 0.904386244041102\n"
     ]
    },
    {
     "name": "stderr",
     "output_type": "stream",
     "text": [
      "C:\\Users\\User\\Anaconda3\\lib\\site-packages\\sklearn\\svm\\_base.py:1208: ConvergenceWarning: Liblinear failed to converge, increase the number of iterations.\n",
      "  ConvergenceWarning,\n"
     ]
    },
    {
     "name": "stdout",
     "output_type": "stream",
     "text": [
      "Epoch:3, Regularization:l1, strength:1, f-score: 0.9231456166731965\n"
     ]
    },
    {
     "name": "stderr",
     "output_type": "stream",
     "text": [
      "C:\\Users\\User\\Anaconda3\\lib\\site-packages\\sklearn\\svm\\_base.py:1208: ConvergenceWarning: Liblinear failed to converge, increase the number of iterations.\n",
      "  ConvergenceWarning,\n"
     ]
    },
    {
     "name": "stdout",
     "output_type": "stream",
     "text": [
      "Epoch:3, Regularization:l1, strength:5, f-score: 0.936335421193456\n"
     ]
    },
    {
     "name": "stderr",
     "output_type": "stream",
     "text": [
      "C:\\Users\\User\\Anaconda3\\lib\\site-packages\\sklearn\\svm\\_base.py:1208: ConvergenceWarning: Liblinear failed to converge, increase the number of iterations.\n",
      "  ConvergenceWarning,\n"
     ]
    },
    {
     "name": "stdout",
     "output_type": "stream",
     "text": [
      "Epoch:3, Regularization:l1, strength:10, f-score: 0.9292953818739448\n"
     ]
    },
    {
     "name": "stderr",
     "output_type": "stream",
     "text": [
      "C:\\Users\\User\\Anaconda3\\lib\\site-packages\\sklearn\\svm\\_base.py:1208: ConvergenceWarning: Liblinear failed to converge, increase the number of iterations.\n",
      "  ConvergenceWarning,\n"
     ]
    },
    {
     "name": "stdout",
     "output_type": "stream",
     "text": [
      "Epoch:3, Regularization:l2, strength:1, f-score: 0.9190408130193648\n"
     ]
    },
    {
     "name": "stderr",
     "output_type": "stream",
     "text": [
      "C:\\Users\\User\\Anaconda3\\lib\\site-packages\\sklearn\\svm\\_base.py:1208: ConvergenceWarning: Liblinear failed to converge, increase the number of iterations.\n",
      "  ConvergenceWarning,\n"
     ]
    },
    {
     "name": "stdout",
     "output_type": "stream",
     "text": [
      "Epoch:3, Regularization:l2, strength:5, f-score: 0.9176816085621053\n"
     ]
    },
    {
     "name": "stderr",
     "output_type": "stream",
     "text": [
      "C:\\Users\\User\\Anaconda3\\lib\\site-packages\\sklearn\\svm\\_base.py:1208: ConvergenceWarning: Liblinear failed to converge, increase the number of iterations.\n",
      "  ConvergenceWarning,\n"
     ]
    },
    {
     "name": "stdout",
     "output_type": "stream",
     "text": [
      "Epoch:3, Regularization:l2, strength:10, f-score: 0.9176816085621053\n"
     ]
    },
    {
     "name": "stderr",
     "output_type": "stream",
     "text": [
      "C:\\Users\\User\\Anaconda3\\lib\\site-packages\\sklearn\\svm\\_base.py:1208: ConvergenceWarning: Liblinear failed to converge, increase the number of iterations.\n",
      "  ConvergenceWarning,\n"
     ]
    },
    {
     "name": "stdout",
     "output_type": "stream",
     "text": [
      "Epoch:4, Regularization:l1, strength:1, f-score: 0.9258131563600751\n"
     ]
    },
    {
     "name": "stderr",
     "output_type": "stream",
     "text": [
      "C:\\Users\\User\\Anaconda3\\lib\\site-packages\\sklearn\\svm\\_base.py:1208: ConvergenceWarning: Liblinear failed to converge, increase the number of iterations.\n",
      "  ConvergenceWarning,\n"
     ]
    },
    {
     "name": "stdout",
     "output_type": "stream",
     "text": [
      "Epoch:4, Regularization:l1, strength:5, f-score: 0.934687597838852\n"
     ]
    },
    {
     "name": "stderr",
     "output_type": "stream",
     "text": [
      "C:\\Users\\User\\Anaconda3\\lib\\site-packages\\sklearn\\svm\\_base.py:1208: ConvergenceWarning: Liblinear failed to converge, increase the number of iterations.\n",
      "  ConvergenceWarning,\n"
     ]
    },
    {
     "name": "stdout",
     "output_type": "stream",
     "text": [
      "Epoch:4, Regularization:l1, strength:10, f-score: 0.9313448032304897\n"
     ]
    },
    {
     "name": "stderr",
     "output_type": "stream",
     "text": [
      "C:\\Users\\User\\Anaconda3\\lib\\site-packages\\sklearn\\svm\\_base.py:1208: ConvergenceWarning: Liblinear failed to converge, increase the number of iterations.\n",
      "  ConvergenceWarning,\n"
     ]
    },
    {
     "name": "stdout",
     "output_type": "stream",
     "text": [
      "Epoch:4, Regularization:l2, strength:1, f-score: 0.931575579821555\n"
     ]
    },
    {
     "name": "stderr",
     "output_type": "stream",
     "text": [
      "C:\\Users\\User\\Anaconda3\\lib\\site-packages\\sklearn\\svm\\_base.py:1208: ConvergenceWarning: Liblinear failed to converge, increase the number of iterations.\n",
      "  ConvergenceWarning,\n"
     ]
    },
    {
     "name": "stdout",
     "output_type": "stream",
     "text": [
      "Epoch:4, Regularization:l2, strength:5, f-score: 0.929559839143032\n"
     ]
    },
    {
     "name": "stderr",
     "output_type": "stream",
     "text": [
      "C:\\Users\\User\\Anaconda3\\lib\\site-packages\\sklearn\\svm\\_base.py:1208: ConvergenceWarning: Liblinear failed to converge, increase the number of iterations.\n",
      "  ConvergenceWarning,\n"
     ]
    },
    {
     "name": "stdout",
     "output_type": "stream",
     "text": [
      "Epoch:4, Regularization:l2, strength:10, f-score: 0.9292277828131011\n"
     ]
    },
    {
     "name": "stderr",
     "output_type": "stream",
     "text": [
      "C:\\Users\\User\\Anaconda3\\lib\\site-packages\\sklearn\\svm\\_base.py:1208: ConvergenceWarning: Liblinear failed to converge, increase the number of iterations.\n",
      "  ConvergenceWarning,\n"
     ]
    },
    {
     "name": "stdout",
     "output_type": "stream",
     "text": [
      "Epoch:5, Regularization:l1, strength:1, f-score: 0.9205162919086651\n"
     ]
    },
    {
     "name": "stderr",
     "output_type": "stream",
     "text": [
      "C:\\Users\\User\\Anaconda3\\lib\\site-packages\\sklearn\\svm\\_base.py:1208: ConvergenceWarning: Liblinear failed to converge, increase the number of iterations.\n",
      "  ConvergenceWarning,\n"
     ]
    },
    {
     "name": "stdout",
     "output_type": "stream",
     "text": [
      "Epoch:5, Regularization:l1, strength:5, f-score: 0.935818996776758\n"
     ]
    },
    {
     "name": "stderr",
     "output_type": "stream",
     "text": [
      "C:\\Users\\User\\Anaconda3\\lib\\site-packages\\sklearn\\svm\\_base.py:1208: ConvergenceWarning: Liblinear failed to converge, increase the number of iterations.\n",
      "  ConvergenceWarning,\n"
     ]
    },
    {
     "name": "stdout",
     "output_type": "stream",
     "text": [
      "Epoch:5, Regularization:l1, strength:10, f-score: 0.9337473530415199\n"
     ]
    },
    {
     "name": "stderr",
     "output_type": "stream",
     "text": [
      "C:\\Users\\User\\Anaconda3\\lib\\site-packages\\sklearn\\svm\\_base.py:1208: ConvergenceWarning: Liblinear failed to converge, increase the number of iterations.\n",
      "  ConvergenceWarning,\n"
     ]
    },
    {
     "name": "stdout",
     "output_type": "stream",
     "text": [
      "Epoch:5, Regularization:l2, strength:1, f-score: 0.9331664023616205\n"
     ]
    },
    {
     "name": "stderr",
     "output_type": "stream",
     "text": [
      "C:\\Users\\User\\Anaconda3\\lib\\site-packages\\sklearn\\svm\\_base.py:1208: ConvergenceWarning: Liblinear failed to converge, increase the number of iterations.\n",
      "  ConvergenceWarning,\n"
     ]
    },
    {
     "name": "stdout",
     "output_type": "stream",
     "text": [
      "Epoch:5, Regularization:l2, strength:5, f-score: 0.9344822901739287\n"
     ]
    },
    {
     "name": "stderr",
     "output_type": "stream",
     "text": [
      "C:\\Users\\User\\Anaconda3\\lib\\site-packages\\sklearn\\svm\\_base.py:1208: ConvergenceWarning: Liblinear failed to converge, increase the number of iterations.\n",
      "  ConvergenceWarning,\n"
     ]
    },
    {
     "name": "stdout",
     "output_type": "stream",
     "text": [
      "Epoch:5, Regularization:l2, strength:10, f-score: 0.9345000310688987\n"
     ]
    },
    {
     "name": "stderr",
     "output_type": "stream",
     "text": [
      "C:\\Users\\User\\Anaconda3\\lib\\site-packages\\sklearn\\svm\\_base.py:1208: ConvergenceWarning: Liblinear failed to converge, increase the number of iterations.\n",
      "  ConvergenceWarning,\n"
     ]
    },
    {
     "name": "stdout",
     "output_type": "stream",
     "text": [
      "Epoch:6, Regularization:l1, strength:1, f-score: 0.9205465678730009\n"
     ]
    },
    {
     "name": "stderr",
     "output_type": "stream",
     "text": [
      "C:\\Users\\User\\Anaconda3\\lib\\site-packages\\sklearn\\svm\\_base.py:1208: ConvergenceWarning: Liblinear failed to converge, increase the number of iterations.\n",
      "  ConvergenceWarning,\n"
     ]
    },
    {
     "name": "stdout",
     "output_type": "stream",
     "text": [
      "Epoch:6, Regularization:l1, strength:5, f-score: 0.9327971136111463\n"
     ]
    },
    {
     "name": "stderr",
     "output_type": "stream",
     "text": [
      "C:\\Users\\User\\Anaconda3\\lib\\site-packages\\sklearn\\svm\\_base.py:1208: ConvergenceWarning: Liblinear failed to converge, increase the number of iterations.\n",
      "  ConvergenceWarning,\n"
     ]
    },
    {
     "name": "stdout",
     "output_type": "stream",
     "text": [
      "Epoch:6, Regularization:l1, strength:10, f-score: 0.9331456565810586\n"
     ]
    },
    {
     "name": "stderr",
     "output_type": "stream",
     "text": [
      "C:\\Users\\User\\Anaconda3\\lib\\site-packages\\sklearn\\svm\\_base.py:1208: ConvergenceWarning: Liblinear failed to converge, increase the number of iterations.\n",
      "  ConvergenceWarning,\n"
     ]
    },
    {
     "name": "stdout",
     "output_type": "stream",
     "text": [
      "Epoch:6, Regularization:l2, strength:1, f-score: 0.9337932514982336\n"
     ]
    },
    {
     "name": "stderr",
     "output_type": "stream",
     "text": [
      "C:\\Users\\User\\Anaconda3\\lib\\site-packages\\sklearn\\svm\\_base.py:1208: ConvergenceWarning: Liblinear failed to converge, increase the number of iterations.\n",
      "  ConvergenceWarning,\n"
     ]
    },
    {
     "name": "stdout",
     "output_type": "stream",
     "text": [
      "Epoch:6, Regularization:l2, strength:5, f-score: 0.9310870292845026\n"
     ]
    },
    {
     "name": "stderr",
     "output_type": "stream",
     "text": [
      "C:\\Users\\User\\Anaconda3\\lib\\site-packages\\sklearn\\svm\\_base.py:1208: ConvergenceWarning: Liblinear failed to converge, increase the number of iterations.\n",
      "  ConvergenceWarning,\n"
     ]
    },
    {
     "name": "stdout",
     "output_type": "stream",
     "text": [
      "Epoch:6, Regularization:l2, strength:10, f-score: 0.9320741640289443\n"
     ]
    },
    {
     "name": "stderr",
     "output_type": "stream",
     "text": [
      "C:\\Users\\User\\Anaconda3\\lib\\site-packages\\sklearn\\svm\\_base.py:1208: ConvergenceWarning: Liblinear failed to converge, increase the number of iterations.\n",
      "  ConvergenceWarning,\n"
     ]
    },
    {
     "name": "stdout",
     "output_type": "stream",
     "text": [
      "Epoch:7, Regularization:l1, strength:1, f-score: 0.9189291470522258\n"
     ]
    },
    {
     "name": "stderr",
     "output_type": "stream",
     "text": [
      "C:\\Users\\User\\Anaconda3\\lib\\site-packages\\sklearn\\svm\\_base.py:1208: ConvergenceWarning: Liblinear failed to converge, increase the number of iterations.\n",
      "  ConvergenceWarning,\n"
     ]
    },
    {
     "name": "stdout",
     "output_type": "stream",
     "text": [
      "Epoch:7, Regularization:l1, strength:5, f-score: 0.9304562291298004\n"
     ]
    },
    {
     "name": "stderr",
     "output_type": "stream",
     "text": [
      "C:\\Users\\User\\Anaconda3\\lib\\site-packages\\sklearn\\svm\\_base.py:1208: ConvergenceWarning: Liblinear failed to converge, increase the number of iterations.\n",
      "  ConvergenceWarning,\n"
     ]
    },
    {
     "name": "stdout",
     "output_type": "stream",
     "text": [
      "Epoch:7, Regularization:l1, strength:10, f-score: 0.9331087205667489\n"
     ]
    },
    {
     "name": "stderr",
     "output_type": "stream",
     "text": [
      "C:\\Users\\User\\Anaconda3\\lib\\site-packages\\sklearn\\svm\\_base.py:1208: ConvergenceWarning: Liblinear failed to converge, increase the number of iterations.\n",
      "  ConvergenceWarning,\n"
     ]
    },
    {
     "name": "stdout",
     "output_type": "stream",
     "text": [
      "Epoch:7, Regularization:l2, strength:1, f-score: 0.9351392493341757\n"
     ]
    },
    {
     "name": "stderr",
     "output_type": "stream",
     "text": [
      "C:\\Users\\User\\Anaconda3\\lib\\site-packages\\sklearn\\svm\\_base.py:1208: ConvergenceWarning: Liblinear failed to converge, increase the number of iterations.\n",
      "  ConvergenceWarning,\n"
     ]
    },
    {
     "name": "stdout",
     "output_type": "stream",
     "text": [
      "Epoch:7, Regularization:l2, strength:5, f-score: 0.9327533228259786\n"
     ]
    },
    {
     "name": "stderr",
     "output_type": "stream",
     "text": [
      "C:\\Users\\User\\Anaconda3\\lib\\site-packages\\sklearn\\svm\\_base.py:1208: ConvergenceWarning: Liblinear failed to converge, increase the number of iterations.\n",
      "  ConvergenceWarning,\n"
     ]
    },
    {
     "name": "stdout",
     "output_type": "stream",
     "text": [
      "Epoch:7, Regularization:l2, strength:10, f-score: 0.9317348645323398\n"
     ]
    },
    {
     "name": "stderr",
     "output_type": "stream",
     "text": [
      "C:\\Users\\User\\Anaconda3\\lib\\site-packages\\sklearn\\svm\\_base.py:1208: ConvergenceWarning: Liblinear failed to converge, increase the number of iterations.\n",
      "  ConvergenceWarning,\n"
     ]
    },
    {
     "name": "stdout",
     "output_type": "stream",
     "text": [
      "Epoch:8, Regularization:l1, strength:1, f-score: 0.9189273664678271\n"
     ]
    },
    {
     "name": "stderr",
     "output_type": "stream",
     "text": [
      "C:\\Users\\User\\Anaconda3\\lib\\site-packages\\sklearn\\svm\\_base.py:1208: ConvergenceWarning: Liblinear failed to converge, increase the number of iterations.\n",
      "  ConvergenceWarning,\n"
     ]
    },
    {
     "name": "stdout",
     "output_type": "stream",
     "text": [
      "Epoch:8, Regularization:l1, strength:5, f-score: 0.9277916212937847\n"
     ]
    },
    {
     "name": "stderr",
     "output_type": "stream",
     "text": [
      "C:\\Users\\User\\Anaconda3\\lib\\site-packages\\sklearn\\svm\\_base.py:1208: ConvergenceWarning: Liblinear failed to converge, increase the number of iterations.\n",
      "  ConvergenceWarning,\n"
     ]
    },
    {
     "name": "stdout",
     "output_type": "stream",
     "text": [
      "Epoch:8, Regularization:l1, strength:10, f-score: 0.9314217166570746\n"
     ]
    },
    {
     "name": "stderr",
     "output_type": "stream",
     "text": [
      "C:\\Users\\User\\Anaconda3\\lib\\site-packages\\sklearn\\svm\\_base.py:1208: ConvergenceWarning: Liblinear failed to converge, increase the number of iterations.\n",
      "  ConvergenceWarning,\n"
     ]
    },
    {
     "name": "stdout",
     "output_type": "stream",
     "text": [
      "Epoch:8, Regularization:l2, strength:1, f-score: 0.9354620684913761\n"
     ]
    },
    {
     "name": "stderr",
     "output_type": "stream",
     "text": [
      "C:\\Users\\User\\Anaconda3\\lib\\site-packages\\sklearn\\svm\\_base.py:1208: ConvergenceWarning: Liblinear failed to converge, increase the number of iterations.\n",
      "  ConvergenceWarning,\n"
     ]
    },
    {
     "name": "stdout",
     "output_type": "stream",
     "text": [
      "Epoch:8, Regularization:l2, strength:5, f-score: 0.9331008062369887\n"
     ]
    },
    {
     "name": "stderr",
     "output_type": "stream",
     "text": [
      "C:\\Users\\User\\Anaconda3\\lib\\site-packages\\sklearn\\svm\\_base.py:1208: ConvergenceWarning: Liblinear failed to converge, increase the number of iterations.\n",
      "  ConvergenceWarning,\n"
     ]
    },
    {
     "name": "stdout",
     "output_type": "stream",
     "text": [
      "Epoch:8, Regularization:l2, strength:10, f-score: 0.9310704874782771\n"
     ]
    },
    {
     "name": "stderr",
     "output_type": "stream",
     "text": [
      "C:\\Users\\User\\Anaconda3\\lib\\site-packages\\sklearn\\svm\\_base.py:1208: ConvergenceWarning: Liblinear failed to converge, increase the number of iterations.\n",
      "  ConvergenceWarning,\n"
     ]
    },
    {
     "name": "stdout",
     "output_type": "stream",
     "text": [
      "Epoch:9, Regularization:l1, strength:1, f-score: 0.9182379213713093\n"
     ]
    },
    {
     "name": "stderr",
     "output_type": "stream",
     "text": [
      "C:\\Users\\User\\Anaconda3\\lib\\site-packages\\sklearn\\svm\\_base.py:1208: ConvergenceWarning: Liblinear failed to converge, increase the number of iterations.\n",
      "  ConvergenceWarning,\n"
     ]
    },
    {
     "name": "stdout",
     "output_type": "stream",
     "text": [
      "Epoch:9, Regularization:l1, strength:5, f-score: 0.9251106809471046\n"
     ]
    },
    {
     "name": "stderr",
     "output_type": "stream",
     "text": [
      "C:\\Users\\User\\Anaconda3\\lib\\site-packages\\sklearn\\svm\\_base.py:1208: ConvergenceWarning: Liblinear failed to converge, increase the number of iterations.\n",
      "  ConvergenceWarning,\n"
     ]
    },
    {
     "name": "stdout",
     "output_type": "stream",
     "text": [
      "Epoch:9, Regularization:l1, strength:10, f-score: 0.9271400603248506\n"
     ]
    },
    {
     "name": "stderr",
     "output_type": "stream",
     "text": [
      "C:\\Users\\User\\Anaconda3\\lib\\site-packages\\sklearn\\svm\\_base.py:1208: ConvergenceWarning: Liblinear failed to converge, increase the number of iterations.\n",
      "  ConvergenceWarning,\n"
     ]
    },
    {
     "name": "stdout",
     "output_type": "stream",
     "text": [
      "Epoch:9, Regularization:l2, strength:1, f-score: 0.9354620684913761\n"
     ]
    },
    {
     "name": "stderr",
     "output_type": "stream",
     "text": [
      "C:\\Users\\User\\Anaconda3\\lib\\site-packages\\sklearn\\svm\\_base.py:1208: ConvergenceWarning: Liblinear failed to converge, increase the number of iterations.\n",
      "  ConvergenceWarning,\n"
     ]
    },
    {
     "name": "stdout",
     "output_type": "stream",
     "text": [
      "Epoch:9, Regularization:l2, strength:5, f-score: 0.9324214571567866\n"
     ]
    },
    {
     "name": "stderr",
     "output_type": "stream",
     "text": [
      "C:\\Users\\User\\Anaconda3\\lib\\site-packages\\sklearn\\svm\\_base.py:1208: ConvergenceWarning: Liblinear failed to converge, increase the number of iterations.\n",
      "  ConvergenceWarning,\n"
     ]
    },
    {
     "name": "stdout",
     "output_type": "stream",
     "text": [
      "Epoch:9, Regularization:l2, strength:10, f-score: 0.9314338765604083\n"
     ]
    },
    {
     "name": "stderr",
     "output_type": "stream",
     "text": [
      "C:\\Users\\User\\Anaconda3\\lib\\site-packages\\sklearn\\svm\\_base.py:1208: ConvergenceWarning: Liblinear failed to converge, increase the number of iterations.\n",
      "  ConvergenceWarning,\n"
     ]
    },
    {
     "name": "stdout",
     "output_type": "stream",
     "text": [
      "Epoch:10, Regularization:l1, strength:1, f-score: 0.917236008205115\n"
     ]
    },
    {
     "name": "stderr",
     "output_type": "stream",
     "text": [
      "C:\\Users\\User\\Anaconda3\\lib\\site-packages\\sklearn\\svm\\_base.py:1208: ConvergenceWarning: Liblinear failed to converge, increase the number of iterations.\n",
      "  ConvergenceWarning,\n"
     ]
    },
    {
     "name": "stdout",
     "output_type": "stream",
     "text": [
      "Epoch:10, Regularization:l1, strength:5, f-score: 0.9251148283424178\n"
     ]
    },
    {
     "name": "stderr",
     "output_type": "stream",
     "text": [
      "C:\\Users\\User\\Anaconda3\\lib\\site-packages\\sklearn\\svm\\_base.py:1208: ConvergenceWarning: Liblinear failed to converge, increase the number of iterations.\n",
      "  ConvergenceWarning,\n"
     ]
    },
    {
     "name": "stdout",
     "output_type": "stream",
     "text": [
      "Epoch:10, Regularization:l1, strength:10, f-score: 0.9278258221662505\n",
      "Epoch:10, Regularization:l2, strength:1, f-score: 0.9354620684913761\n",
      "Epoch:10, Regularization:l2, strength:5, f-score: 0.9324214571567866\n"
     ]
    },
    {
     "name": "stderr",
     "output_type": "stream",
     "text": [
      "C:\\Users\\User\\Anaconda3\\lib\\site-packages\\sklearn\\svm\\_base.py:1208: ConvergenceWarning: Liblinear failed to converge, increase the number of iterations.\n",
      "  ConvergenceWarning,\n"
     ]
    },
    {
     "name": "stdout",
     "output_type": "stream",
     "text": [
      "Epoch:10, Regularization:l2, strength:10, f-score: 0.9314338765604083\n"
     ]
    },
    {
     "name": "stderr",
     "output_type": "stream",
     "text": [
      "C:\\Users\\User\\Anaconda3\\lib\\site-packages\\sklearn\\svm\\_base.py:1208: ConvergenceWarning: Liblinear failed to converge, increase the number of iterations.\n",
      "  ConvergenceWarning,\n"
     ]
    },
    {
     "name": "stdout",
     "output_type": "stream",
     "text": [
      "Epoch:11, Regularization:l1, strength:1, f-score: 0.9182371713708278\n"
     ]
    },
    {
     "name": "stderr",
     "output_type": "stream",
     "text": [
      "C:\\Users\\User\\Anaconda3\\lib\\site-packages\\sklearn\\svm\\_base.py:1208: ConvergenceWarning: Liblinear failed to converge, increase the number of iterations.\n",
      "  ConvergenceWarning,\n"
     ]
    },
    {
     "name": "stdout",
     "output_type": "stream",
     "text": [
      "Epoch:11, Regularization:l1, strength:5, f-score: 0.923448483823986\n"
     ]
    },
    {
     "name": "stderr",
     "output_type": "stream",
     "text": [
      "C:\\Users\\User\\Anaconda3\\lib\\site-packages\\sklearn\\svm\\_base.py:1208: ConvergenceWarning: Liblinear failed to converge, increase the number of iterations.\n",
      "  ConvergenceWarning,\n"
     ]
    },
    {
     "name": "stdout",
     "output_type": "stream",
     "text": [
      "Epoch:11, Regularization:l1, strength:10, f-score: 0.9261345217905219\n",
      "Epoch:11, Regularization:l2, strength:1, f-score: 0.9354620684913761\n",
      "Epoch:11, Regularization:l2, strength:5, f-score: 0.9324214571567866\n",
      "Epoch:11, Regularization:l2, strength:10, f-score: 0.9314338765604083\n"
     ]
    },
    {
     "name": "stderr",
     "output_type": "stream",
     "text": [
      "C:\\Users\\User\\Anaconda3\\lib\\site-packages\\sklearn\\svm\\_base.py:1208: ConvergenceWarning: Liblinear failed to converge, increase the number of iterations.\n",
      "  ConvergenceWarning,\n"
     ]
    },
    {
     "name": "stdout",
     "output_type": "stream",
     "text": [
      "Epoch:12, Regularization:l1, strength:1, f-score: 0.916879148724496\n"
     ]
    },
    {
     "name": "stderr",
     "output_type": "stream",
     "text": [
      "C:\\Users\\User\\Anaconda3\\lib\\site-packages\\sklearn\\svm\\_base.py:1208: ConvergenceWarning: Liblinear failed to converge, increase the number of iterations.\n",
      "  ConvergenceWarning,\n"
     ]
    },
    {
     "name": "stdout",
     "output_type": "stream",
     "text": [
      "Epoch:12, Regularization:l1, strength:5, f-score: 0.924138713762604\n"
     ]
    },
    {
     "name": "stderr",
     "output_type": "stream",
     "text": [
      "C:\\Users\\User\\Anaconda3\\lib\\site-packages\\sklearn\\svm\\_base.py:1208: ConvergenceWarning: Liblinear failed to converge, increase the number of iterations.\n",
      "  ConvergenceWarning,\n"
     ]
    },
    {
     "name": "stdout",
     "output_type": "stream",
     "text": [
      "Epoch:12, Regularization:l1, strength:10, f-score: 0.9264524163396817\n",
      "Epoch:12, Regularization:l2, strength:1, f-score: 0.9354620684913761\n",
      "Epoch:12, Regularization:l2, strength:5, f-score: 0.9324214571567866\n",
      "Epoch:12, Regularization:l2, strength:10, f-score: 0.9314338765604083\n"
     ]
    },
    {
     "name": "stderr",
     "output_type": "stream",
     "text": [
      "C:\\Users\\User\\Anaconda3\\lib\\site-packages\\sklearn\\svm\\_base.py:1208: ConvergenceWarning: Liblinear failed to converge, increase the number of iterations.\n",
      "  ConvergenceWarning,\n"
     ]
    },
    {
     "name": "stdout",
     "output_type": "stream",
     "text": [
      "Epoch:13, Regularization:l1, strength:1, f-score: 0.9175545894478974\n"
     ]
    },
    {
     "name": "stderr",
     "output_type": "stream",
     "text": [
      "C:\\Users\\User\\Anaconda3\\lib\\site-packages\\sklearn\\svm\\_base.py:1208: ConvergenceWarning: Liblinear failed to converge, increase the number of iterations.\n",
      "  ConvergenceWarning,\n"
     ]
    },
    {
     "name": "stdout",
     "output_type": "stream",
     "text": [
      "Epoch:13, Regularization:l1, strength:5, f-score: 0.9254937713284773\n"
     ]
    },
    {
     "name": "stderr",
     "output_type": "stream",
     "text": [
      "C:\\Users\\User\\Anaconda3\\lib\\site-packages\\sklearn\\svm\\_base.py:1208: ConvergenceWarning: Liblinear failed to converge, increase the number of iterations.\n",
      "  ConvergenceWarning,\n"
     ]
    },
    {
     "name": "stdout",
     "output_type": "stream",
     "text": [
      "Epoch:13, Regularization:l1, strength:10, f-score: 0.9234285313281125\n",
      "Epoch:13, Regularization:l2, strength:1, f-score: 0.9354620684913761\n",
      "Epoch:13, Regularization:l2, strength:5, f-score: 0.9324214571567866\n",
      "Epoch:13, Regularization:l2, strength:10, f-score: 0.9314338765604083\n"
     ]
    },
    {
     "name": "stderr",
     "output_type": "stream",
     "text": [
      "C:\\Users\\User\\Anaconda3\\lib\\site-packages\\sklearn\\svm\\_base.py:1208: ConvergenceWarning: Liblinear failed to converge, increase the number of iterations.\n",
      "  ConvergenceWarning,\n"
     ]
    },
    {
     "name": "stdout",
     "output_type": "stream",
     "text": [
      "Epoch:14, Regularization:l1, strength:1, f-score: 0.9175912175882169\n"
     ]
    },
    {
     "name": "stderr",
     "output_type": "stream",
     "text": [
      "C:\\Users\\User\\Anaconda3\\lib\\site-packages\\sklearn\\svm\\_base.py:1208: ConvergenceWarning: Liblinear failed to converge, increase the number of iterations.\n",
      "  ConvergenceWarning,\n"
     ]
    },
    {
     "name": "stdout",
     "output_type": "stream",
     "text": [
      "Epoch:14, Regularization:l1, strength:5, f-score: 0.9228089197436279\n"
     ]
    },
    {
     "name": "stderr",
     "output_type": "stream",
     "text": [
      "C:\\Users\\User\\Anaconda3\\lib\\site-packages\\sklearn\\svm\\_base.py:1208: ConvergenceWarning: Liblinear failed to converge, increase the number of iterations.\n",
      "  ConvergenceWarning,\n"
     ]
    },
    {
     "name": "stdout",
     "output_type": "stream",
     "text": [
      "Epoch:14, Regularization:l1, strength:10, f-score: 0.9241368827093022\n",
      "Epoch:14, Regularization:l2, strength:1, f-score: 0.9354620684913761\n",
      "Epoch:14, Regularization:l2, strength:5, f-score: 0.9324214571567866\n",
      "Epoch:14, Regularization:l2, strength:10, f-score: 0.9314338765604083\n"
     ]
    },
    {
     "name": "stderr",
     "output_type": "stream",
     "text": [
      "C:\\Users\\User\\Anaconda3\\lib\\site-packages\\sklearn\\svm\\_base.py:1208: ConvergenceWarning: Liblinear failed to converge, increase the number of iterations.\n",
      "  ConvergenceWarning,\n"
     ]
    },
    {
     "name": "stdout",
     "output_type": "stream",
     "text": [
      "Epoch:15, Regularization:l1, strength:1, f-score: 0.9172370352461823\n"
     ]
    },
    {
     "name": "stderr",
     "output_type": "stream",
     "text": [
      "C:\\Users\\User\\Anaconda3\\lib\\site-packages\\sklearn\\svm\\_base.py:1208: ConvergenceWarning: Liblinear failed to converge, increase the number of iterations.\n",
      "  ConvergenceWarning,\n"
     ]
    },
    {
     "name": "stdout",
     "output_type": "stream",
     "text": [
      "Epoch:15, Regularization:l1, strength:5, f-score: 0.9241447890801382\n"
     ]
    },
    {
     "name": "stderr",
     "output_type": "stream",
     "text": [
      "C:\\Users\\User\\Anaconda3\\lib\\site-packages\\sklearn\\svm\\_base.py:1208: ConvergenceWarning: Liblinear failed to converge, increase the number of iterations.\n",
      "  ConvergenceWarning,\n"
     ]
    },
    {
     "name": "stdout",
     "output_type": "stream",
     "text": [
      "Epoch:15, Regularization:l1, strength:10, f-score: 0.9247953745801273\n",
      "Epoch:15, Regularization:l2, strength:1, f-score: 0.9354620684913761\n",
      "Epoch:15, Regularization:l2, strength:5, f-score: 0.9324214571567866\n",
      "Epoch:15, Regularization:l2, strength:10, f-score: 0.9314338765604083\n"
     ]
    },
    {
     "name": "stderr",
     "output_type": "stream",
     "text": [
      "C:\\Users\\User\\Anaconda3\\lib\\site-packages\\sklearn\\svm\\_base.py:1208: ConvergenceWarning: Liblinear failed to converge, increase the number of iterations.\n",
      "  ConvergenceWarning,\n"
     ]
    },
    {
     "name": "stdout",
     "output_type": "stream",
     "text": [
      "Epoch:16, Regularization:l1, strength:1, f-score: 0.9172299259199858\n"
     ]
    },
    {
     "name": "stderr",
     "output_type": "stream",
     "text": [
      "C:\\Users\\User\\Anaconda3\\lib\\site-packages\\sklearn\\svm\\_base.py:1208: ConvergenceWarning: Liblinear failed to converge, increase the number of iterations.\n",
      "  ConvergenceWarning,\n"
     ]
    },
    {
     "name": "stdout",
     "output_type": "stream",
     "text": [
      "Epoch:16, Regularization:l1, strength:5, f-score: 0.9251535550638534\n"
     ]
    },
    {
     "name": "stderr",
     "output_type": "stream",
     "text": [
      "C:\\Users\\User\\Anaconda3\\lib\\site-packages\\sklearn\\svm\\_base.py:1208: ConvergenceWarning: Liblinear failed to converge, increase the number of iterations.\n",
      "  ConvergenceWarning,\n"
     ]
    },
    {
     "name": "stdout",
     "output_type": "stream",
     "text": [
      "Epoch:16, Regularization:l1, strength:10, f-score: 0.9227986443910953\n",
      "Epoch:16, Regularization:l2, strength:1, f-score: 0.9354620684913761\n",
      "Epoch:16, Regularization:l2, strength:5, f-score: 0.9324214571567866\n",
      "Epoch:16, Regularization:l2, strength:10, f-score: 0.9314338765604083\n"
     ]
    },
    {
     "name": "stderr",
     "output_type": "stream",
     "text": [
      "C:\\Users\\User\\Anaconda3\\lib\\site-packages\\sklearn\\svm\\_base.py:1208: ConvergenceWarning: Liblinear failed to converge, increase the number of iterations.\n",
      "  ConvergenceWarning,\n"
     ]
    },
    {
     "name": "stdout",
     "output_type": "stream",
     "text": [
      "Epoch:17, Regularization:l1, strength:1, f-score: 0.9168976118550846\n"
     ]
    },
    {
     "name": "stderr",
     "output_type": "stream",
     "text": [
      "C:\\Users\\User\\Anaconda3\\lib\\site-packages\\sklearn\\svm\\_base.py:1208: ConvergenceWarning: Liblinear failed to converge, increase the number of iterations.\n",
      "  ConvergenceWarning,\n"
     ]
    },
    {
     "name": "stdout",
     "output_type": "stream",
     "text": [
      "Epoch:17, Regularization:l1, strength:5, f-score: 0.9238096070193504\n"
     ]
    },
    {
     "name": "stderr",
     "output_type": "stream",
     "text": [
      "C:\\Users\\User\\Anaconda3\\lib\\site-packages\\sklearn\\svm\\_base.py:1208: ConvergenceWarning: Liblinear failed to converge, increase the number of iterations.\n",
      "  ConvergenceWarning,\n"
     ]
    },
    {
     "name": "stdout",
     "output_type": "stream",
     "text": [
      "Epoch:17, Regularization:l1, strength:10, f-score: 0.9238007526481078\n",
      "Epoch:17, Regularization:l2, strength:1, f-score: 0.9354620684913761\n",
      "Epoch:17, Regularization:l2, strength:5, f-score: 0.9324214571567866\n",
      "Epoch:17, Regularization:l2, strength:10, f-score: 0.9314338765604083\n"
     ]
    },
    {
     "name": "stderr",
     "output_type": "stream",
     "text": [
      "C:\\Users\\User\\Anaconda3\\lib\\site-packages\\sklearn\\svm\\_base.py:1208: ConvergenceWarning: Liblinear failed to converge, increase the number of iterations.\n",
      "  ConvergenceWarning,\n"
     ]
    },
    {
     "name": "stdout",
     "output_type": "stream",
     "text": [
      "Epoch:18, Regularization:l1, strength:1, f-score: 0.9172425948866118\n"
     ]
    },
    {
     "name": "stderr",
     "output_type": "stream",
     "text": [
      "C:\\Users\\User\\Anaconda3\\lib\\site-packages\\sklearn\\svm\\_base.py:1208: ConvergenceWarning: Liblinear failed to converge, increase the number of iterations.\n",
      "  ConvergenceWarning,\n"
     ]
    },
    {
     "name": "stdout",
     "output_type": "stream",
     "text": [
      "Epoch:18, Regularization:l1, strength:5, f-score: 0.9234682283112507\n"
     ]
    },
    {
     "name": "stderr",
     "output_type": "stream",
     "text": [
      "C:\\Users\\User\\Anaconda3\\lib\\site-packages\\sklearn\\svm\\_base.py:1208: ConvergenceWarning: Liblinear failed to converge, increase the number of iterations.\n",
      "  ConvergenceWarning,\n"
     ]
    },
    {
     "name": "stdout",
     "output_type": "stream",
     "text": [
      "Epoch:18, Regularization:l1, strength:10, f-score: 0.9238037246411928\n",
      "Epoch:18, Regularization:l2, strength:1, f-score: 0.9354620684913761\n",
      "Epoch:18, Regularization:l2, strength:5, f-score: 0.9324214571567866\n",
      "Epoch:18, Regularization:l2, strength:10, f-score: 0.9314338765604083\n",
      "Epoch:19, Regularization:l1, strength:1, f-score: 0.9172425948866118\n"
     ]
    },
    {
     "name": "stderr",
     "output_type": "stream",
     "text": [
      "C:\\Users\\User\\Anaconda3\\lib\\site-packages\\sklearn\\svm\\_base.py:1208: ConvergenceWarning: Liblinear failed to converge, increase the number of iterations.\n",
      "  ConvergenceWarning,\n"
     ]
    },
    {
     "name": "stdout",
     "output_type": "stream",
     "text": [
      "Epoch:19, Regularization:l1, strength:5, f-score: 0.9248148581879212\n"
     ]
    },
    {
     "name": "stderr",
     "output_type": "stream",
     "text": [
      "C:\\Users\\User\\Anaconda3\\lib\\site-packages\\sklearn\\svm\\_base.py:1208: ConvergenceWarning: Liblinear failed to converge, increase the number of iterations.\n",
      "  ConvergenceWarning,\n"
     ]
    },
    {
     "name": "stdout",
     "output_type": "stream",
     "text": [
      "Epoch:19, Regularization:l1, strength:10, f-score: 0.9241540770396348\n",
      "Epoch:19, Regularization:l2, strength:1, f-score: 0.9354620684913761\n",
      "Epoch:19, Regularization:l2, strength:5, f-score: 0.9324214571567866\n",
      "Epoch:19, Regularization:l2, strength:10, f-score: 0.9314338765604083\n"
     ]
    },
    {
     "name": "stderr",
     "output_type": "stream",
     "text": [
      "C:\\Users\\User\\Anaconda3\\lib\\site-packages\\sklearn\\svm\\_base.py:1208: ConvergenceWarning: Liblinear failed to converge, increase the number of iterations.\n",
      "  ConvergenceWarning,\n"
     ]
    },
    {
     "name": "stdout",
     "output_type": "stream",
     "text": [
      "Epoch:20, Regularization:l1, strength:1, f-score: 0.9172370352461823\n"
     ]
    },
    {
     "name": "stderr",
     "output_type": "stream",
     "text": [
      "C:\\Users\\User\\Anaconda3\\lib\\site-packages\\sklearn\\svm\\_base.py:1208: ConvergenceWarning: Liblinear failed to converge, increase the number of iterations.\n",
      "  ConvergenceWarning,\n"
     ]
    },
    {
     "name": "stdout",
     "output_type": "stream",
     "text": [
      "Epoch:20, Regularization:l1, strength:5, f-score: 0.9241518540208125\n",
      "Epoch:20, Regularization:l1, strength:10, f-score: 0.9238182442987226\n",
      "Epoch:20, Regularization:l2, strength:1, f-score: 0.9354620684913761\n",
      "Epoch:20, Regularization:l2, strength:5, f-score: 0.9324214571567866\n",
      "Epoch:20, Regularization:l2, strength:10, f-score: 0.9314338765604083\n",
      "Best epoch:3, Best fegularization:l1, Best strength:5, Best f-score: 0.936335421193456\n"
     ]
    }
   ],
   "source": [
    "# hyperparameter tuning for the logistic regression classifier: epoch from 1-20, regularization using \"l1\" or \"l2\", and regularization strength using 1, 5, and 10\n",
    "# Best epoch is 3, Best fegularization is l1, Best strength is 5\n",
    "# F1-scocre reached 0.9363 after tuning, and increased from 0.9112 from pre-tuning.\n",
    "best_f_score = 0\n",
    "best_lr_epoch = 0\n",
    "best_regularization = \"\"\n",
    "best_strength = 0\n",
    "\n",
    "for epoch in range(1,21):\n",
    "    for regularization in [\"l1\",\"l2\"]:\n",
    "        for strength in [1,5,10]:\n",
    "            classifier =  LogisticRegression(penalty = regularization, C = strength, solver=\"liblinear\",max_iter=epoch)\n",
    "            train_X, dev_X, test_X, classifier = encode_and_train(train, dev, test, vectorizer, classifier)\n",
    "            f_score = evaluate(dev_X, dev_y, classifier)\n",
    "            if f_score > best_f_score:\n",
    "                best_f_score = f_score\n",
    "                best_lr_epoch = epoch\n",
    "                best_regularization = regularization\n",
    "                best_strength = strength\n",
    "\n",
    "            print(f\"Epoch:{epoch}, Regularization:{regularization}, strength:{strength}, f-score: {f_score}\")\n",
    "print(f\"Best epoch:{best_lr_epoch}, Best fegularization:{best_regularization}, Best strength:{best_strength}, Best f-score: {best_f_score}\")"
   ]
  },
  {
   "cell_type": "code",
   "execution_count": null,
   "id": "68e5e676-b1b7-4867-90bf-81dc89a2cfbb",
   "metadata": {},
   "outputs": [],
   "source": []
  },
  {
   "cell_type": "markdown",
   "id": "e5316d0e",
   "metadata": {},
   "source": [
    "## 5. Evaluation (20 points)\n",
    "\n",
    "You should now evaluate your classifiers on the test data. Please also run significance tests to check whether the difference in their f-scores is statistically significant. You are free to choose between the t-test, Wilcoxon test or bootstrap sampling. Please use a threshold p-value of 0.5%. \n",
    "\n",
    "In your report (question 7), you should answer the following questions:\n",
    "\n",
    "* Is there a statistically significant difference between the perceptron and logistic regression classifiers? "
   ]
  },
  {
   "cell_type": "code",
   "execution_count": 16,
   "id": "a2d6ff3d",
   "metadata": {},
   "outputs": [
    {
     "name": "stderr",
     "output_type": "stream",
     "text": [
      "C:\\Users\\User\\Anaconda3\\lib\\site-packages\\sklearn\\linear_model\\_stochastic_gradient.py:700: ConvergenceWarning: Maximum number of iteration reached before convergence. Consider increasing max_iter to improve the fit.\n",
      "  ConvergenceWarning,\n"
     ]
    },
    {
     "name": "stdout",
     "output_type": "stream",
     "text": [
      "Perceptron model evaluation: 0.931567191192982\n",
      "Logistic regression model evaluation: 0.9380847040923915\n"
     ]
    },
    {
     "name": "stderr",
     "output_type": "stream",
     "text": [
      "C:\\Users\\User\\Anaconda3\\lib\\site-packages\\sklearn\\svm\\_base.py:1208: ConvergenceWarning: Liblinear failed to converge, increase the number of iterations.\n",
      "  ConvergenceWarning,\n"
     ]
    }
   ],
   "source": [
    "# evaluation of the perceptron model\n",
    "pcpt = Perceptron(max_iter = best_pcpt_epoch)\n",
    "train_X, dev_X, test_X, classifier = encode_and_train(train, dev, test, vectorizer, pcpt)\n",
    "pcpt_test_y = pcpt.predict(test_X)\n",
    "pcpt_f_score = f1_score(test_y, pcpt_test_y, average=\"macro\")\n",
    "print(f\"Perceptron model evaluation: {pcpt_f_score}\")\n",
    "\n",
    "# evaluation of the logistic regression model\n",
    "lr = LogisticRegression(penalty = best_regularization, C = best_strength, solver=\"liblinear\",max_iter=best_lr_epoch)\n",
    "train_X, dev_X, test_X, classifier = encode_and_train(train, dev, test, vectorizer, lr)\n",
    "lr_test_y = lr.predict(test_X)\n",
    "lr_f_score = f1_score(test_y, lr_test_y, average=\"macro\")\n",
    "\n",
    "print(f\"Logistic regression model evaluation: {lr_f_score}\")"
   ]
  },
  {
   "cell_type": "code",
   "execution_count": 18,
   "id": "fe36abbb-70c3-44f8-8c5e-b625d7d0aafd",
   "metadata": {},
   "outputs": [
    {
     "name": "stdout",
     "output_type": "stream",
     "text": [
      "Mean Perceptron f1 socre: 0.9311085948392679\n",
      "Mean Logistic regression f1 socre: 0.9382994257764595\n",
      "Wilcoxon signed rank test: WilcoxonResult(statistic=8.0, pvalue=0.048828125)\n"
     ]
    }
   ],
   "source": [
    "# testing whether significant difference exists in the performance of the two models.\n",
    "# split the test dataset into ten non-overlapping portions, and run evaluation of each model on each portion. \n",
    "# Then use a wilcoxon signed rank test to test whehter the performance of the two models is significantly different.\n",
    "pcpt_f_scores = []\n",
    "lr_f_scores = []\n",
    "\n",
    "STEP = int(len(test)/10 +1)\n",
    "\n",
    "test_sample_y = label_encoder.transform(test.language)\n",
    "\n",
    "vectorizer = DictVectorizer()\n",
    "train_features = feature_extraction(train)\n",
    "test_features = feature_extraction(test)\n",
    "train_X = vectorizer.fit(train_features)\n",
    "test_X = vectorizer.transform(test_features)\n",
    "\n",
    "pcpt_test_y = pcpt.predict(test_X)\n",
    "lr_test_y = lr.predict(test_X)\n",
    "\n",
    "for i in range(0, 3000, STEP):\n",
    "    pcpt_f_score = f1_score(test_sample_y[i:i+STEP], pcpt_test_y[i:i+STEP], average=\"macro\")\n",
    "    lr_f_score = f1_score(test_sample_y[i:i+STEP], lr_test_y[i:i+STEP], average=\"macro\")\n",
    "    pcpt_f_scores.append(pcpt_f_score)\n",
    "    lr_f_scores.append(lr_f_score)\n",
    "\n",
    "print(f\"Mean Perceptron f1 socre: {np.average(pcpt_f_scores)}\")\n",
    "print(f\"Mean Logistic regression f1 socre: {np.average(lr_f_scores)}\")\n",
    "print(f\"Wilcoxon signed rank test: {wilcoxon(pcpt_f_scores, lr_f_scores)}\")"
   ]
  },
  {
   "cell_type": "markdown",
   "id": "9282a5b6",
   "metadata": {},
   "source": [
    "Some languages will be easier to tell apart than others. We might, for example, guess that German and Swedish will be hard to tell apart, because these languages are quite similar. Perhaps English and Swedish will be easier to distinguish? \n",
    "\n",
    "Use the sklearn function [sklearn.metrics.confusion_matrix](https://scikit-learn.org/stable/modules/generated/sklearn.metrics.confusion_matrix.html) to generate a [confusion matrix](https://www.w3schools.com/python/python_ml_confusion_matrix.asp) for your classifiers on the **development data**. \n",
    "\n",
    "If you want, you can plot the confusion matrix using [sklearn.metrics.ConfusionMatrixDisplay](https://scikit-learn.org/stable/modules/generated/sklearn.metrics.ConfusionMatrixDisplay.html).\n",
    "\n",
    "In your report (question 7), you should answer the following questions: \n",
    "\n",
    "* Which two languages are confused most often? \n",
    "* Why do you think these two languages are difficult to tell apart? "
   ]
  },
  {
   "cell_type": "code",
   "execution_count": 19,
   "id": "c58f0834",
   "metadata": {},
   "outputs": [
    {
     "data": {
      "image/png": "[encoded data removed]",
      "text/plain": [
       "<Figure size 640x480 with 2 Axes>"
      ]
     },
     "metadata": {},
     "output_type": "display_data"
    },
    {
     "data": {
      "image/png": "[encoded data removed]",
      "text/plain": [
       "<Figure size 640x480 with 2 Axes>"
      ]
     },
     "metadata": {},
     "output_type": "display_data"
    }
   ],
   "source": [
    "# perceptron regression confusion matrix\n",
    "pcpt_sys_dev_y = pcpt.predict(dev_X)\n",
    "\n",
    "pcpt_confusion_matrix = metrics.confusion_matrix(dev_y, pcpt_sys_dev_y)\n",
    "\n",
    "pcpt_cm_display = metrics.ConfusionMatrixDisplay(confusion_matrix = pcpt_confusion_matrix, display_labels = [\"de\", \"en\", \"fr\", \"sv\"])\n",
    "\n",
    "pcpt_cm_display.plot()\n",
    "plt.show()\n",
    "\n",
    "\n",
    "# logistic regression confusion matrix\n",
    "lr_sys_dev_y = lr.predict(dev_X)\n",
    "\n",
    "lr_confusion_matrix = metrics.confusion_matrix(dev_y, lr_sys_dev_y)\n",
    "\n",
    "lr_cm_display = metrics.ConfusionMatrixDisplay(confusion_matrix = lr_confusion_matrix, display_labels = [\"de\", \"en\", \"fr\", \"sv\"])\n",
    "\n",
    "lr_cm_display.plot()\n",
    "plt.show()"
   ]
  },
  {
   "cell_type": "markdown",
   "id": "dfd9088c",
   "metadata": {},
   "source": [
    "## 6. Top-features (20 points)\n",
    "\n",
    "You will now extract features which have large parameter values. These are features which your models emphasize strongly in classification, so they should be very informative.\n",
    "\n",
    "Find the 10 strongest features for the English class (the 10 features with the highest parameter values in the en parameter vectors) and the 10 most positive  features for the French class. Find these features both for your perceptron and logistic regression models. \n",
    "\n",
    "Note, that: \n",
    "\n",
    "* You will need to access the string representations of your features. `vectorizer.get_feature_names()` will help here. \n",
    "* You'll also need to access the parameter vectors of your models. These you can get using `model.coef_[i]`, where `model` is either you logistic regression model or your perceptron model, and `i` is the ID number of the class. \n",
    "* You'll need to use `encoder.classes_` to figure out which ID number corresponds to which language tag (de, en, fr or sv). \n",
    "\n",
    "In your report (question 7), you should answer the following questions:\n",
    "1. Do these features correspond to your intuition?\n",
    "1. Do the perceptron and logistic regression models find similar top-features?\n"
   ]
  },
  {
   "cell_type": "code",
   "execution_count": 20,
   "id": "05470bff-6781-4dd9-bc04-11c621314bf4",
   "metadata": {},
   "outputs": [
    {
     "name": "stdout",
     "output_type": "stream",
     "text": [
      "['de' 'en' 'fr' 'sv']\n",
      "[0 1 2 3]\n"
     ]
    }
   ],
   "source": [
    "# get label and index correspondance\n",
    "print(label_encoder.classes_)\n",
    "print(label_encoder.transform(label_encoder.classes_))"
   ]
  },
  {
   "cell_type": "code",
   "execution_count": 21,
   "id": "566a10b9",
   "metadata": {},
   "outputs": [],
   "source": [
    "# get string representation of features\n",
    "vectorizer = DictVectorizer()\n",
    "train_features = feature_extraction(train)\n",
    "train_X = vectorizer.fit_transform(train_features)\n",
    "features = vectorizer.get_feature_names_out()\n"
   ]
  },
  {
   "cell_type": "code",
   "execution_count": 22,
   "id": "7b3c68ce-9046-4548-bb9f-1088ab1a1db7",
   "metadata": {},
   "outputs": [
    {
     "name": "stdout",
     "output_type": "stream",
     "text": [
      "------------- perceptron model top features -------------\n",
      "------------- English top features -------------\n",
      "char_bigram=ed\n",
      "char_trigram=the\n",
      "char_bigram= c\n",
      "word_suff_2=ed\n",
      "word_suff_1=y\n",
      "word_suff_3=and\n",
      "char_bigram=ea\n",
      "EN_common_word=YES\n",
      "word_suff_4=and\n",
      "char_bigram=th\n",
      "------------- French top features -------------\n",
      "word_suff_3=les\n",
      "char_trigram= se\n",
      "char_bigram=ai\n",
      "word_suff_2=nt\n",
      "char_unigram=è\n",
      "word_suff_3=en\n",
      "word_suff_4=en\n",
      "char_bigram=te\n",
      "char_unigram=é\n",
      "FR_common_word=YES\n",
      "------------- logistic regression model top features -------------\n",
      "------------- English top features -------------\n",
      "char_pentagram=later\n",
      "word_suff_4=yeah\n",
      "word_suff_4=you\n",
      "word_suff_3=oh\n",
      "char_pentagram= patt\n",
      "char_quadgram=hire\n",
      "word_suff_3=ome\n",
      "word_suff_4=nasa\n",
      "char_quadgram=reer\n",
      "word_suff_4=two\n",
      "------------- French top features -------------\n",
      "word_suff_4=voir\n",
      "word_suff_2=y\n",
      "word_suff_4=ans\n",
      "char_trigram=eur\n",
      "char_pentagram= cett\n",
      "word_suff_3=bre\n",
      "char_pentagram=du de\n",
      "char_bigram=vé\n",
      "char_unigram=è\n",
      "char_quadgram=kesp\n"
     ]
    }
   ],
   "source": [
    "# get the top 10 features for English and French for both models\n",
    "# perceptron model\n",
    "print(\"------------- perceptron model top features -------------\")\n",
    "print(\"------------- English top features -------------\")\n",
    "top_10_en_feature_index = np.argsort(pcpt.coef_[1])[-10:]\n",
    "for idx in top_10_en_feature_index:\n",
    "    print(features[idx])\n",
    "\n",
    "print(\"------------- French top features -------------\")\n",
    "top_10_fr_feature_index = np.argsort(pcpt.coef_[2])[-10:]\n",
    "for idx in top_10_fr_feature_index:\n",
    "    print(features[idx])\n",
    "    \n",
    "# logistic regression model\n",
    "print(\"------------- logistic regression model top features -------------\")\n",
    "print(\"------------- English top features -------------\")\n",
    "lr_top_10_en_feature_index = np.argsort(lr.coef_[1])[-10:]\n",
    "for idx in lr_top_10_en_feature_index:\n",
    "    print(features[idx])\n",
    "print(\"------------- French top features -------------\")\n",
    "lr_top_10_fr_feature_index = np.argsort(lr.coef_[2])[-10:]\n",
    "for idx in lr_top_10_fr_feature_index:\n",
    "    print(features[idx])"
   ]
  },
  {
   "cell_type": "markdown",
   "id": "5c6d1563",
   "metadata": {},
   "source": [
    "## 7. Short report (10 points)\n",
    "\n",
    "Write a short report (half a page) describing what you did in this assignment. Please include answers to the questions posed in each individual assignment 1-6."
   ]
  },
  {
   "cell_type": "markdown",
   "id": "9ac51f0a-a24b-41b5-b10d-0b126b16c22a",
   "metadata": {},
   "source": [
    "### Overview\n",
    "In this assignment, I trained two classifiers to classify language based on given text. Firstly, I loaded datasets (train, development and test) of sentence fragment text of four different languages, incluing German, English, French, and Swedish. Secondly, I came up with some features and then vectorized the features. Then I build two classifiers, one Perceptron classifier and one Logistic regression classifier. The two classifiers then got fine tuned using the development dataset and evaluated using test dataset. Then I comparied the performance of the two classifiers, and I plotted the confusion matrix of each classifier to exhibit which language is usually mis-classified. Finally, I extracted the top features found by the two classifers when predicting English and French. The following paragraphs will answer questions in each task.\n",
    "### Description on initial features (task 2)\n",
    "The initail features that I proposed were on three categories, inclduing character n-gram, number of inflected words, and common words in each langauge. Specifically, character n-gram features include character bi-gram and tri-gram features. Number of inflected words features include the number of inflected words in a given sentence fragmant for each langauge. For the common words features, I came up with four common words lists, one for each language. The lists contain words such as articles, determiners, and different forms of be-verbs in each language. Then I proposed features that check whether the given text contains any word in the lists.\n",
    "### Discuss why performance of the DummyClassifier is poor (task 3)\n",
    "The DummyClassifier trained in task 3 only returns the most frequent label that it observed in the training dataset. In our case, labels in the training and development dataset are roughly distributed, and the most frequent label in the training is 2 (French) which is the least frequent label in the development dataset (takes less than 25%). Since the DummyClassifier only predict the most frequent lable in the training dataset, the True Positive cases for the other three labels is zero, which results in F1 score of 0 for those labels. For the 2 (French) label, the F1 score is slightly below 0.4, which results in a macro average F1 score just below 0.1.\n",
    "### Hyperparameter fine tuning (task 4)\n",
    "Apart from tuning the hyperparameters, I also improved my feature set. \n",
    "After I inspected the incorrectly classified token, I noticed that my features did not capture words that only has one character (e.g. y in French), and I noticed that some word would easily be classified by its suffix (e.g. s in English, gue in French). Hence, I added some features to the character n-gram inclduing unigram, 4-gram and 5-gram, and added some suffixing features includling the last character of each word, the last two characters of each word, the last three characters of each word, and the last four characters of each word.\n",
    "\n",
    "For the Perceptron model, I only tuned the training epoch from 1 to 20. The results of the tuning process shows the best epoch is 14, and the F1-scocre reached 0.9359 after tuning, which increased from 0.9073 at pre-tuning.\n",
    "For the Logistic regression model, I tuned the training epoch from 1 to 20, chose regularization method from \"l1\" and \"l2\", and chose regularization strength from 1, 5, and 10. The results of the tuning process shows the best epoch is 3, the best fegularization is l1, and the best strength is 5. The model reached F1-scocre of 0.9363 after tuning, which increased from 0.9112 at pre-tuning.\n",
    "### Discussion on statistic test results (task 5)\n",
    "The results of an Wilcoxon Signed Rank test showed that the p value is 0.049, which is greater than our threshold 0.005. Therefore, there is no significant difference between the performance of the Perceptron and the Logistric regression classifier.\n",
    "### Most confused two languages (task 5)\n",
    "The confusion matrices of both the Perceptron classifier and the logistic regression classifier show that English and French got confused by both models most often. The Perceptron classifer mis-classifed 44 English sentences as French, and 21 French sentence as English, results in a total number of 65 which outnumbers all other pairs of languages. The Logistic regression classifer mis-classifed 28 English sentences as French, and 29 French sentence as English, results in a total number of 57 which also outnumbers all other pairs of languages. This might be because that English borrowed a lot of words from French in the history. For instance, English words population, problem, and question are borrowed from French.\n",
    "### Discussion on the top feature (task 6)\n",
    "I don't speak French so I don't have speaker intuition for French. The following discssion is on the top features of English.\n",
    "The top features found by the two classifiers are quite different. The top features used by the Perceptron classsifer look more intuitive to me than the top features used by the Logistic regression classifer. For the Perceptron classifier, apart from English common words, the top ranking features include character bigram -th-, bigram -ea-, suffix -ed, suffix -y, and suffix -and, which are all common forms in English but rare in other languages.\n",
    "\n",
    "The top features used by the Logistic regression classifer are less intuitive. For instance, -two, -you, -yeah as suffices were used as top features. However they could only be as one specific word not as suffices. The character n-gram features, such as -hire-, -nasa-, -later-, -reer-, - patt- are also not as common as features like -th- mentioned above. Therefore, I think the features found by the Perceptron classifier is more sensible than those found by the Logistic regression classifier."
   ]
  },
  {
   "cell_type": "code",
   "execution_count": null,
   "id": "3f9d014a-d287-45c7-96b6-6ac2f3ca5b8c",
   "metadata": {},
   "outputs": [],
   "source": []
  }
 ],
 "metadata": {
  "kernelspec": {
   "display_name": "Python 3 (ipykernel)",
   "language": "python",
   "name": "python3"
  },
  "language_info": {
   "codemirror_mode": {
    "name": "ipython",
    "version": 3
   },
   "file_extension": ".py",
   "mimetype": "text/x-python",
   "name": "python",
   "nbconvert_exporter": "python",
   "pygments_lexer": "ipython3",
   "version": "3.7.4"
  }
 },
 "nbformat": 4,
 "nbformat_minor": 5
}
